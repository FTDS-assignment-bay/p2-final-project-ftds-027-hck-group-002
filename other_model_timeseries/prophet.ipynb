{
 "cells": [
  {
   "cell_type": "markdown",
   "id": "e5ab6324",
   "metadata": {},
   "source": [
    "# Import Libraries"
   ]
  },
  {
   "cell_type": "code",
   "execution_count": 1,
   "id": "eaf07a68",
   "metadata": {},
   "outputs": [
    {
     "name": "stderr",
     "output_type": "stream",
     "text": [
      "c:\\Users\\Acer\\miniconda3\\lib\\site-packages\\tqdm\\auto.py:21: TqdmWarning: IProgress not found. Please update jupyter and ipywidgets. See https://ipywidgets.readthedocs.io/en/stable/user_install.html\n",
      "  from .autonotebook import tqdm as notebook_tqdm\n"
     ]
    }
   ],
   "source": [
    "from prophet import Prophet\n",
    "import pandas as pd\n",
    "from sklearn.metrics import mean_absolute_error, mean_absolute_percentage_error\n",
    "import matplotlib.pyplot as plt"
   ]
  },
  {
   "cell_type": "code",
   "execution_count": 3,
   "id": "30865fb9",
   "metadata": {},
   "outputs": [
    {
     "data": {
      "text/html": [
       "<div>\n",
       "<style scoped>\n",
       "    .dataframe tbody tr th:only-of-type {\n",
       "        vertical-align: middle;\n",
       "    }\n",
       "\n",
       "    .dataframe tbody tr th {\n",
       "        vertical-align: top;\n",
       "    }\n",
       "\n",
       "    .dataframe thead th {\n",
       "        text-align: right;\n",
       "    }\n",
       "</style>\n",
       "<table border=\"1\" class=\"dataframe\">\n",
       "  <thead>\n",
       "    <tr style=\"text-align: right;\">\n",
       "      <th></th>\n",
       "      <th>date</th>\n",
       "      <th>status</th>\n",
       "      <th>fulfilment</th>\n",
       "      <th>sales_channel</th>\n",
       "      <th>ship_service_level</th>\n",
       "      <th>category</th>\n",
       "      <th>size</th>\n",
       "      <th>amazon_standard_id</th>\n",
       "      <th>qty</th>\n",
       "      <th>currency</th>\n",
       "      <th>sales</th>\n",
       "      <th>clean_ship_state</th>\n",
       "      <th>promotion_used</th>\n",
       "    </tr>\n",
       "  </thead>\n",
       "  <tbody>\n",
       "    <tr>\n",
       "      <th>0</th>\n",
       "      <td>2022-04-30</td>\n",
       "      <td>Shipped</td>\n",
       "      <td>Amazon</td>\n",
       "      <td>Amazon.in</td>\n",
       "      <td>Expedited</td>\n",
       "      <td>kurta</td>\n",
       "      <td>XL</td>\n",
       "      <td>B07WV4JV4D</td>\n",
       "      <td>1</td>\n",
       "      <td>INR</td>\n",
       "      <td>329.0</td>\n",
       "      <td>Maharashtra</td>\n",
       "      <td>True</td>\n",
       "    </tr>\n",
       "    <tr>\n",
       "      <th>1</th>\n",
       "      <td>2022-04-30</td>\n",
       "      <td>Shipped</td>\n",
       "      <td>Amazon</td>\n",
       "      <td>Amazon.in</td>\n",
       "      <td>Expedited</td>\n",
       "      <td>Top</td>\n",
       "      <td>3XL</td>\n",
       "      <td>B098714BZP</td>\n",
       "      <td>1</td>\n",
       "      <td>INR</td>\n",
       "      <td>574.0</td>\n",
       "      <td>Tamil Nadu</td>\n",
       "      <td>False</td>\n",
       "    </tr>\n",
       "    <tr>\n",
       "      <th>2</th>\n",
       "      <td>2022-04-30</td>\n",
       "      <td>Shipped</td>\n",
       "      <td>Amazon</td>\n",
       "      <td>Amazon.in</td>\n",
       "      <td>Expedited</td>\n",
       "      <td>Set</td>\n",
       "      <td>XL</td>\n",
       "      <td>B08YN7XDSG</td>\n",
       "      <td>1</td>\n",
       "      <td>INR</td>\n",
       "      <td>824.0</td>\n",
       "      <td>Uttar Pradesh</td>\n",
       "      <td>True</td>\n",
       "    </tr>\n",
       "    <tr>\n",
       "      <th>3</th>\n",
       "      <td>2022-04-30</td>\n",
       "      <td>Shipped</td>\n",
       "      <td>Amazon</td>\n",
       "      <td>Amazon.in</td>\n",
       "      <td>Expedited</td>\n",
       "      <td>Set</td>\n",
       "      <td>L</td>\n",
       "      <td>B08CMHNWBN</td>\n",
       "      <td>1</td>\n",
       "      <td>INR</td>\n",
       "      <td>653.0</td>\n",
       "      <td>Chandigarh</td>\n",
       "      <td>True</td>\n",
       "    </tr>\n",
       "    <tr>\n",
       "      <th>4</th>\n",
       "      <td>2022-04-30</td>\n",
       "      <td>Shipped</td>\n",
       "      <td>Amazon</td>\n",
       "      <td>Amazon.in</td>\n",
       "      <td>Expedited</td>\n",
       "      <td>kurta</td>\n",
       "      <td>XXL</td>\n",
       "      <td>B08B3XF5MH</td>\n",
       "      <td>1</td>\n",
       "      <td>INR</td>\n",
       "      <td>363.0</td>\n",
       "      <td>Tamil Nadu</td>\n",
       "      <td>False</td>\n",
       "    </tr>\n",
       "  </tbody>\n",
       "</table>\n",
       "</div>"
      ],
      "text/plain": [
       "         date   status fulfilment sales_channel ship_service_level category  \\\n",
       "0  2022-04-30  Shipped     Amazon     Amazon.in          Expedited    kurta   \n",
       "1  2022-04-30  Shipped     Amazon     Amazon.in          Expedited      Top   \n",
       "2  2022-04-30  Shipped     Amazon     Amazon.in          Expedited      Set   \n",
       "3  2022-04-30  Shipped     Amazon     Amazon.in          Expedited      Set   \n",
       "4  2022-04-30  Shipped     Amazon     Amazon.in          Expedited    kurta   \n",
       "\n",
       "  size amazon_standard_id  qty currency  sales clean_ship_state  \\\n",
       "0   XL         B07WV4JV4D    1      INR  329.0      Maharashtra   \n",
       "1  3XL         B098714BZP    1      INR  574.0       Tamil Nadu   \n",
       "2   XL         B08YN7XDSG    1      INR  824.0    Uttar Pradesh   \n",
       "3    L         B08CMHNWBN    1      INR  653.0       Chandigarh   \n",
       "4  XXL         B08B3XF5MH    1      INR  363.0       Tamil Nadu   \n",
       "\n",
       "   promotion_used  \n",
       "0            True  \n",
       "1           False  \n",
       "2            True  \n",
       "3            True  \n",
       "4           False  "
      ]
     },
     "execution_count": 3,
     "metadata": {},
     "output_type": "execute_result"
    }
   ],
   "source": [
    "data = pd.read_csv('C:/Users/Acer/Downloads/Final Project/p2-final-project-ftds-027-hck-group-002/main_model_timeseries/data_for_modelling.csv')\n",
    "data.head()"
   ]
  },
  {
   "cell_type": "code",
   "execution_count": 4,
   "id": "c1d0043a",
   "metadata": {},
   "outputs": [],
   "source": [
    "df = data.copy()"
   ]
  },
  {
   "cell_type": "code",
   "execution_count": 5,
   "id": "e24f392e",
   "metadata": {},
   "outputs": [],
   "source": [
    "df = df.groupby('date')['sales'].sum().reset_index()"
   ]
  },
  {
   "cell_type": "code",
   "execution_count": 6,
   "id": "021bf3d8",
   "metadata": {},
   "outputs": [
    {
     "data": {
      "text/html": [
       "<div>\n",
       "<style scoped>\n",
       "    .dataframe tbody tr th:only-of-type {\n",
       "        vertical-align: middle;\n",
       "    }\n",
       "\n",
       "    .dataframe tbody tr th {\n",
       "        vertical-align: top;\n",
       "    }\n",
       "\n",
       "    .dataframe thead th {\n",
       "        text-align: right;\n",
       "    }\n",
       "</style>\n",
       "<table border=\"1\" class=\"dataframe\">\n",
       "  <thead>\n",
       "    <tr style=\"text-align: right;\">\n",
       "      <th></th>\n",
       "      <th>date</th>\n",
       "      <th>sales</th>\n",
       "    </tr>\n",
       "  </thead>\n",
       "  <tbody>\n",
       "    <tr>\n",
       "      <th>0</th>\n",
       "      <td>2022-03-31</td>\n",
       "      <td>84013.0</td>\n",
       "    </tr>\n",
       "    <tr>\n",
       "      <th>1</th>\n",
       "      <td>2022-04-01</td>\n",
       "      <td>635277.0</td>\n",
       "    </tr>\n",
       "    <tr>\n",
       "      <th>2</th>\n",
       "      <td>2022-04-02</td>\n",
       "      <td>673257.0</td>\n",
       "    </tr>\n",
       "    <tr>\n",
       "      <th>3</th>\n",
       "      <td>2022-04-03</td>\n",
       "      <td>737777.0</td>\n",
       "    </tr>\n",
       "    <tr>\n",
       "      <th>4</th>\n",
       "      <td>2022-04-04</td>\n",
       "      <td>630021.0</td>\n",
       "    </tr>\n",
       "  </tbody>\n",
       "</table>\n",
       "</div>"
      ],
      "text/plain": [
       "         date     sales\n",
       "0  2022-03-31   84013.0\n",
       "1  2022-04-01  635277.0\n",
       "2  2022-04-02  673257.0\n",
       "3  2022-04-03  737777.0\n",
       "4  2022-04-04  630021.0"
      ]
     },
     "execution_count": 6,
     "metadata": {},
     "output_type": "execute_result"
    }
   ],
   "source": [
    "df.head()"
   ]
  },
  {
   "cell_type": "code",
   "execution_count": 7,
   "id": "00c42b9c",
   "metadata": {},
   "outputs": [],
   "source": [
    "df = df.rename(columns={'date': 'ds', 'sales': 'y'})"
   ]
  },
  {
   "cell_type": "code",
   "execution_count": 8,
   "id": "12240cb8",
   "metadata": {},
   "outputs": [],
   "source": [
    "train = df.iloc[:-14]\n",
    "test = df.iloc[-14:]"
   ]
  },
  {
   "cell_type": "markdown",
   "id": "af871aaf",
   "metadata": {},
   "source": [
    "# Model Definiton"
   ]
  },
  {
   "cell_type": "code",
   "execution_count": 9,
   "id": "5093b04a",
   "metadata": {},
   "outputs": [],
   "source": [
    "model = Prophet(weekly_seasonality=True)"
   ]
  },
  {
   "cell_type": "markdown",
   "id": "0868b3a3",
   "metadata": {},
   "source": [
    "# Model Training"
   ]
  },
  {
   "cell_type": "code",
   "execution_count": 10,
   "id": "e4fa5b53",
   "metadata": {},
   "outputs": [
    {
     "name": "stderr",
     "output_type": "stream",
     "text": [
      "19:53:11 - cmdstanpy - INFO - Chain [1] start processing\n",
      "19:53:13 - cmdstanpy - INFO - Chain [1] done processing\n"
     ]
    },
    {
     "data": {
      "text/plain": [
       "<prophet.forecaster.Prophet at 0x1f8f50396a0>"
      ]
     },
     "execution_count": 10,
     "metadata": {},
     "output_type": "execute_result"
    }
   ],
   "source": [
    "model.fit(train)"
   ]
  },
  {
   "cell_type": "markdown",
   "id": "b7b017ba",
   "metadata": {},
   "source": [
    "# Model Evaluation"
   ]
  },
  {
   "cell_type": "code",
   "execution_count": 11,
   "id": "bba9bf66",
   "metadata": {},
   "outputs": [],
   "source": [
    "future = model.make_future_dataframe(periods=14)\n",
    "forecast = model.predict(future)"
   ]
  },
  {
   "cell_type": "code",
   "execution_count": 12,
   "id": "3e89097c",
   "metadata": {},
   "outputs": [],
   "source": [
    "pred_train = forecast[['ds', 'yhat']].iloc[:len(train)].reset_index(drop=True)\n",
    "pred_test = forecast[['ds', 'yhat']].iloc[-14:].reset_index(drop=True)"
   ]
  },
  {
   "cell_type": "code",
   "execution_count": 13,
   "id": "1033bd7b",
   "metadata": {},
   "outputs": [
    {
     "name": "stdout",
     "output_type": "stream",
     "text": [
      "<class 'pandas.core.frame.DataFrame'>\n",
      "RangeIndex: 91 entries, 0 to 90\n",
      "Data columns (total 16 columns):\n",
      " #   Column                      Non-Null Count  Dtype         \n",
      "---  ------                      --------------  -----         \n",
      " 0   ds                          91 non-null     datetime64[ns]\n",
      " 1   trend                       91 non-null     float64       \n",
      " 2   yhat_lower                  91 non-null     float64       \n",
      " 3   yhat_upper                  91 non-null     float64       \n",
      " 4   trend_lower                 91 non-null     float64       \n",
      " 5   trend_upper                 91 non-null     float64       \n",
      " 6   additive_terms              91 non-null     float64       \n",
      " 7   additive_terms_lower        91 non-null     float64       \n",
      " 8   additive_terms_upper        91 non-null     float64       \n",
      " 9   weekly                      91 non-null     float64       \n",
      " 10  weekly_lower                91 non-null     float64       \n",
      " 11  weekly_upper                91 non-null     float64       \n",
      " 12  multiplicative_terms        91 non-null     float64       \n",
      " 13  multiplicative_terms_lower  91 non-null     float64       \n",
      " 14  multiplicative_terms_upper  91 non-null     float64       \n",
      " 15  yhat                        91 non-null     float64       \n",
      "dtypes: datetime64[ns](1), float64(15)\n",
      "memory usage: 11.5 KB\n"
     ]
    }
   ],
   "source": [
    "forecast.info()"
   ]
  },
  {
   "cell_type": "code",
   "execution_count": 14,
   "id": "5c38f084",
   "metadata": {},
   "outputs": [],
   "source": [
    "y_train = train['y'].reset_index(drop=True)\n",
    "y_test = test['y'].reset_index(drop=True)"
   ]
  },
  {
   "cell_type": "code",
   "execution_count": 15,
   "id": "3ca531d0",
   "metadata": {},
   "outputs": [
    {
     "name": "stdout",
     "output_type": "stream",
     "text": [
      "MAE Train : 98598.42194234872\n",
      "MAE Test : 119399.49242966532\n"
     ]
    }
   ],
   "source": [
    "mae_train = mean_absolute_error(y_train, pred_train['yhat'])\n",
    "mae_test = mean_absolute_error(y_test, pred_test['yhat'])\n",
    "\n",
    "print(f\"MAE Train : {mae_train}\")\n",
    "print(f\"MAE Test : {mae_test}\")"
   ]
  },
  {
   "cell_type": "code",
   "execution_count": 16,
   "id": "39e5dae4",
   "metadata": {},
   "outputs": [
    {
     "name": "stdout",
     "output_type": "stream",
     "text": [
      "MAPE Train : 0.2434080431632026\n",
      "MAPE Test : 0.4622350771053282\n"
     ]
    }
   ],
   "source": [
    "mape_train = mean_absolute_percentage_error(y_train, pred_train['yhat'])\n",
    "mape_test = mean_absolute_percentage_error(y_test, pred_test['yhat'])\n",
    "\n",
    "print(f\"MAPE Train : {mape_train}\")\n",
    "print(f\"MAPE Test : {mape_test}\")"
   ]
  },
  {
   "cell_type": "code",
   "execution_count": 17,
   "id": "328dffe3",
   "metadata": {},
   "outputs": [
    {
     "data": {
      "image/png": "[encoded data removed]",
      "text/plain": [
       "<Figure size 640x480 with 1 Axes>"
      ]
     },
     "metadata": {},
     "output_type": "display_data"
    }
   ],
   "source": [
    "df['ds'] = pd.to_datetime(df['ds'])\n",
    "forecast['ds'] = pd.to_datetime(forecast['ds'])\n",
    "\n",
    "# Plot data asli\n",
    "plt.plot(df['ds'], df['y'], label='Actual')\n",
    "\n",
    "# Plot hasil prediksi Prophet\n",
    "plt.plot(forecast['ds'], forecast['yhat'], label='Forecast')\n",
    "\n",
    "plt.legend()\n",
    "plt.title('Actual vs Forecast (Prophet)')\n",
    "plt.show()"
   ]
  }
 ],
 "metadata": {
  "kernelspec": {
   "display_name": "base",
   "language": "python",
   "name": "python3"
  },
  "language_info": {
   "codemirror_mode": {
    "name": "ipython",
    "version": 3
   },
   "file_extension": ".py",
   "mimetype": "text/x-python",
   "name": "python",
   "nbconvert_exporter": "python",
   "pygments_lexer": "ipython3",
   "version": "3.9.21"
  }
 },
 "nbformat": 4,
 "nbformat_minor": 5
}
