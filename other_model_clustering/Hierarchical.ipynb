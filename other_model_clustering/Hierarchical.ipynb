{
 "cells": [
  {
   "cell_type": "markdown",
   "id": "5d0fdb6f",
   "metadata": {},
   "source": [
    "# Import Libraries"
   ]
  },
  {
   "cell_type": "code",
   "execution_count": null,
   "id": "3f5ee835",
   "metadata": {},
   "outputs": [],
   "source": [
    "import pandas as pd\n",
    "import numpy as np\n",
    "import matplotlib.pyplot as plt\n",
    "import plotly.express as px\n",
    "from feature_engine.outliers import Winsorizer\n",
    "\n",
    "import gower\n",
    "from scipy.cluster.hierarchy import linkage, dendrogram, fcluster\n",
    "from sklearn.cluster import AgglomerativeClustering\n",
    "\n",
    "from sklearn.metrics import silhouette_score\n",
    "from sklearn.manifold import MDS"
   ]
  },
  {
   "cell_type": "markdown",
   "id": "cfb0a4fb",
   "metadata": {},
   "source": [
    "#  Data Loading"
   ]
  },
  {
   "cell_type": "code",
   "execution_count": null,
   "id": "0344e663",
   "metadata": {},
   "outputs": [
    {
     "data": {
      "text/html": [
       "<div>\n",
       "<style scoped>\n",
       "    .dataframe tbody tr th:only-of-type {\n",
       "        vertical-align: middle;\n",
       "    }\n",
       "\n",
       "    .dataframe tbody tr th {\n",
       "        vertical-align: top;\n",
       "    }\n",
       "\n",
       "    .dataframe thead th {\n",
       "        text-align: right;\n",
       "    }\n",
       "</style>\n",
       "<table border=\"1\" class=\"dataframe\">\n",
       "  <thead>\n",
       "    <tr style=\"text-align: right;\">\n",
       "      <th></th>\n",
       "      <th>date</th>\n",
       "      <th>status</th>\n",
       "      <th>fulfilment</th>\n",
       "      <th>sales_channel</th>\n",
       "      <th>ship_service_level</th>\n",
       "      <th>category</th>\n",
       "      <th>size</th>\n",
       "      <th>amazon_standard_id</th>\n",
       "      <th>qty</th>\n",
       "      <th>currency</th>\n",
       "      <th>sales</th>\n",
       "      <th>clean_ship_state</th>\n",
       "      <th>promotion_used</th>\n",
       "    </tr>\n",
       "  </thead>\n",
       "  <tbody>\n",
       "    <tr>\n",
       "      <th>0</th>\n",
       "      <td>2022-04-30</td>\n",
       "      <td>Shipped</td>\n",
       "      <td>Amazon</td>\n",
       "      <td>Amazon.in</td>\n",
       "      <td>Expedited</td>\n",
       "      <td>kurta</td>\n",
       "      <td>XL</td>\n",
       "      <td>B07WV4JV4D</td>\n",
       "      <td>1</td>\n",
       "      <td>INR</td>\n",
       "      <td>329.0</td>\n",
       "      <td>Maharashtra</td>\n",
       "      <td>True</td>\n",
       "    </tr>\n",
       "    <tr>\n",
       "      <th>1</th>\n",
       "      <td>2022-04-30</td>\n",
       "      <td>Shipped</td>\n",
       "      <td>Amazon</td>\n",
       "      <td>Amazon.in</td>\n",
       "      <td>Expedited</td>\n",
       "      <td>Top</td>\n",
       "      <td>3XL</td>\n",
       "      <td>B098714BZP</td>\n",
       "      <td>1</td>\n",
       "      <td>INR</td>\n",
       "      <td>574.0</td>\n",
       "      <td>Tamil Nadu</td>\n",
       "      <td>False</td>\n",
       "    </tr>\n",
       "    <tr>\n",
       "      <th>2</th>\n",
       "      <td>2022-04-30</td>\n",
       "      <td>Shipped</td>\n",
       "      <td>Amazon</td>\n",
       "      <td>Amazon.in</td>\n",
       "      <td>Expedited</td>\n",
       "      <td>Set</td>\n",
       "      <td>XL</td>\n",
       "      <td>B08YN7XDSG</td>\n",
       "      <td>1</td>\n",
       "      <td>INR</td>\n",
       "      <td>824.0</td>\n",
       "      <td>Uttar Pradesh</td>\n",
       "      <td>True</td>\n",
       "    </tr>\n",
       "    <tr>\n",
       "      <th>3</th>\n",
       "      <td>2022-04-30</td>\n",
       "      <td>Shipped</td>\n",
       "      <td>Amazon</td>\n",
       "      <td>Amazon.in</td>\n",
       "      <td>Expedited</td>\n",
       "      <td>Set</td>\n",
       "      <td>L</td>\n",
       "      <td>B08CMHNWBN</td>\n",
       "      <td>1</td>\n",
       "      <td>INR</td>\n",
       "      <td>653.0</td>\n",
       "      <td>Chandigarh</td>\n",
       "      <td>True</td>\n",
       "    </tr>\n",
       "    <tr>\n",
       "      <th>4</th>\n",
       "      <td>2022-04-30</td>\n",
       "      <td>Shipped</td>\n",
       "      <td>Amazon</td>\n",
       "      <td>Amazon.in</td>\n",
       "      <td>Expedited</td>\n",
       "      <td>kurta</td>\n",
       "      <td>XXL</td>\n",
       "      <td>B08B3XF5MH</td>\n",
       "      <td>1</td>\n",
       "      <td>INR</td>\n",
       "      <td>363.0</td>\n",
       "      <td>Tamil Nadu</td>\n",
       "      <td>False</td>\n",
       "    </tr>\n",
       "  </tbody>\n",
       "</table>\n",
       "</div>"
      ],
      "text/plain": [
       "         date   status fulfilment sales_channel ship_service_level category  \\\n",
       "0  2022-04-30  Shipped     Amazon     Amazon.in          Expedited    kurta   \n",
       "1  2022-04-30  Shipped     Amazon     Amazon.in          Expedited      Top   \n",
       "2  2022-04-30  Shipped     Amazon     Amazon.in          Expedited      Set   \n",
       "3  2022-04-30  Shipped     Amazon     Amazon.in          Expedited      Set   \n",
       "4  2022-04-30  Shipped     Amazon     Amazon.in          Expedited    kurta   \n",
       "\n",
       "  size amazon_standard_id  qty currency  sales clean_ship_state  \\\n",
       "0   XL         B07WV4JV4D    1      INR  329.0      Maharashtra   \n",
       "1  3XL         B098714BZP    1      INR  574.0       Tamil Nadu   \n",
       "2   XL         B08YN7XDSG    1      INR  824.0    Uttar Pradesh   \n",
       "3    L         B08CMHNWBN    1      INR  653.0       Chandigarh   \n",
       "4  XXL         B08B3XF5MH    1      INR  363.0       Tamil Nadu   \n",
       "\n",
       "   promotion_used  \n",
       "0            True  \n",
       "1           False  \n",
       "2            True  \n",
       "3            True  \n",
       "4           False  "
      ]
     },
     "execution_count": 6,
     "metadata": {},
     "output_type": "execute_result"
    }
   ],
   "source": [
    "# Load Dataset\n",
    "data = pd.read_csv('data_for_modelling.csv')\n",
    "\n",
    "# Display 5 rows\n",
    "data.head()"
   ]
  },
  {
   "cell_type": "code",
   "execution_count": 7,
   "id": "cdf1e612",
   "metadata": {},
   "outputs": [],
   "source": [
    "df = data.copy()"
   ]
  },
  {
   "cell_type": "code",
   "execution_count": 8,
   "id": "f55aa0a8",
   "metadata": {},
   "outputs": [
    {
     "name": "stdout",
     "output_type": "stream",
     "text": [
      "<class 'pandas.core.frame.DataFrame'>\n",
      "RangeIndex: 77692 entries, 0 to 77691\n",
      "Data columns (total 13 columns):\n",
      " #   Column              Non-Null Count  Dtype  \n",
      "---  ------              --------------  -----  \n",
      " 0   date                77692 non-null  object \n",
      " 1   status              77692 non-null  object \n",
      " 2   fulfilment          77692 non-null  object \n",
      " 3   sales_channel       77692 non-null  object \n",
      " 4   ship_service_level  77692 non-null  object \n",
      " 5   category            77692 non-null  object \n",
      " 6   size                77692 non-null  object \n",
      " 7   amazon_standard_id  77692 non-null  object \n",
      " 8   qty                 77692 non-null  int64  \n",
      " 9   currency            77692 non-null  object \n",
      " 10  sales               77692 non-null  float64\n",
      " 11  clean_ship_state    77692 non-null  object \n",
      " 12  promotion_used      77692 non-null  bool   \n",
      "dtypes: bool(1), float64(1), int64(1), object(10)\n",
      "memory usage: 7.2+ MB\n"
     ]
    }
   ],
   "source": [
    "df.info()"
   ]
  },
  {
   "cell_type": "markdown",
   "id": "fb379ae1",
   "metadata": {},
   "source": [
    "# Feature Engineering"
   ]
  },
  {
   "cell_type": "code",
   "execution_count": 9,
   "id": "c3cdf619",
   "metadata": {},
   "outputs": [],
   "source": [
    "# Change data type\n",
    "df['date']= pd.to_datetime(df['date'])\n",
    "df['promo_used'] = df['promotion_used'].astype(int)"
   ]
  },
  {
   "cell_type": "code",
   "execution_count": 10,
   "id": "a31fd266",
   "metadata": {},
   "outputs": [],
   "source": [
    "# groupby table by amazon_standard_id\n",
    "agg_df = df.groupby('amazon_standard_id').agg({\n",
    "    'qty': ['sum', 'mean'],\n",
    "    'sales': ['sum', 'mean'],\n",
    "    'promotion_used': 'mean',\n",
    "    'category': lambda x: x.mode()[0],\n",
    "    'size': lambda x: x.mode()[0],\n",
    "    'clean_ship_state': lambda x: x.mode()[0],\n",
    "    'date' : ['min', 'max', 'count']\n",
    "})\n",
    "\n",
    "agg_df.columns = [\n",
    "    'total_qty', 'avg_qty_per_order',\n",
    "    'total_sales', 'avg_sales_per_order',\n",
    "    'promo_used_ratio',\n",
    "    'freq_category',\n",
    "    'freq_size',\n",
    "    'freq_ship_state',\n",
    "    'last_order_date', 'first_order_date', 'total_transactions'\n",
    "]\n",
    "\n",
    "agg_df = agg_df.reset_index()\n",
    "\n",
    "# Recency Feature\n",
    "agg_df['last_order_date'] = pd.to_datetime(agg_df['last_order_date'])\n",
    "agg_df['recency_days'] = (df['date'].max() - agg_df['last_order_date']).dt.days"
   ]
  },
  {
   "cell_type": "code",
   "execution_count": 11,
   "id": "88deae91",
   "metadata": {},
   "outputs": [
    {
     "data": {
      "text/html": [
       "<div>\n",
       "<style scoped>\n",
       "    .dataframe tbody tr th:only-of-type {\n",
       "        vertical-align: middle;\n",
       "    }\n",
       "\n",
       "    .dataframe tbody tr th {\n",
       "        vertical-align: top;\n",
       "    }\n",
       "\n",
       "    .dataframe thead th {\n",
       "        text-align: right;\n",
       "    }\n",
       "</style>\n",
       "<table border=\"1\" class=\"dataframe\">\n",
       "  <thead>\n",
       "    <tr style=\"text-align: right;\">\n",
       "      <th></th>\n",
       "      <th>amazon_standard_id</th>\n",
       "      <th>total_qty</th>\n",
       "      <th>avg_qty_per_order</th>\n",
       "      <th>total_sales</th>\n",
       "      <th>avg_sales_per_order</th>\n",
       "      <th>promo_used_ratio</th>\n",
       "      <th>freq_category</th>\n",
       "      <th>freq_size</th>\n",
       "      <th>freq_ship_state</th>\n",
       "      <th>last_order_date</th>\n",
       "      <th>first_order_date</th>\n",
       "      <th>total_transactions</th>\n",
       "      <th>recency_days</th>\n",
       "    </tr>\n",
       "  </thead>\n",
       "  <tbody>\n",
       "    <tr>\n",
       "      <th>0</th>\n",
       "      <td>B01LYC0N7Q</td>\n",
       "      <td>3</td>\n",
       "      <td>1.0</td>\n",
       "      <td>1230.0</td>\n",
       "      <td>410.000000</td>\n",
       "      <td>0.333333</td>\n",
       "      <td>kurta</td>\n",
       "      <td>XL</td>\n",
       "      <td>Delhi</td>\n",
       "      <td>2022-04-02</td>\n",
       "      <td>2022-06-25</td>\n",
       "      <td>3</td>\n",
       "      <td>88</td>\n",
       "    </tr>\n",
       "    <tr>\n",
       "      <th>1</th>\n",
       "      <td>B01LYC0NV1</td>\n",
       "      <td>10</td>\n",
       "      <td>1.0</td>\n",
       "      <td>2986.0</td>\n",
       "      <td>298.600000</td>\n",
       "      <td>0.700000</td>\n",
       "      <td>kurta</td>\n",
       "      <td>XL</td>\n",
       "      <td>Tamil Nadu</td>\n",
       "      <td>2022-04-06</td>\n",
       "      <td>2022-06-15</td>\n",
       "      <td>10</td>\n",
       "      <td>84</td>\n",
       "    </tr>\n",
       "    <tr>\n",
       "      <th>2</th>\n",
       "      <td>B01LZMXYSV</td>\n",
       "      <td>5</td>\n",
       "      <td>1.0</td>\n",
       "      <td>1499.0</td>\n",
       "      <td>299.800000</td>\n",
       "      <td>0.800000</td>\n",
       "      <td>kurta</td>\n",
       "      <td>S</td>\n",
       "      <td>Karnataka</td>\n",
       "      <td>2022-04-08</td>\n",
       "      <td>2022-06-24</td>\n",
       "      <td>5</td>\n",
       "      <td>82</td>\n",
       "    </tr>\n",
       "    <tr>\n",
       "      <th>3</th>\n",
       "      <td>B01LZYQ93J</td>\n",
       "      <td>4</td>\n",
       "      <td>1.0</td>\n",
       "      <td>1204.0</td>\n",
       "      <td>301.000000</td>\n",
       "      <td>0.750000</td>\n",
       "      <td>kurta</td>\n",
       "      <td>M</td>\n",
       "      <td>Tamil Nadu</td>\n",
       "      <td>2022-06-04</td>\n",
       "      <td>2022-06-23</td>\n",
       "      <td>4</td>\n",
       "      <td>25</td>\n",
       "    </tr>\n",
       "    <tr>\n",
       "      <th>4</th>\n",
       "      <td>B01M0LXTZE</td>\n",
       "      <td>7</td>\n",
       "      <td>1.0</td>\n",
       "      <td>2644.0</td>\n",
       "      <td>377.714286</td>\n",
       "      <td>0.857143</td>\n",
       "      <td>kurta</td>\n",
       "      <td>M</td>\n",
       "      <td>Karnataka</td>\n",
       "      <td>2022-04-14</td>\n",
       "      <td>2022-05-09</td>\n",
       "      <td>7</td>\n",
       "      <td>76</td>\n",
       "    </tr>\n",
       "    <tr>\n",
       "      <th>...</th>\n",
       "      <td>...</td>\n",
       "      <td>...</td>\n",
       "      <td>...</td>\n",
       "      <td>...</td>\n",
       "      <td>...</td>\n",
       "      <td>...</td>\n",
       "      <td>...</td>\n",
       "      <td>...</td>\n",
       "      <td>...</td>\n",
       "      <td>...</td>\n",
       "      <td>...</td>\n",
       "      <td>...</td>\n",
       "      <td>...</td>\n",
       "    </tr>\n",
       "    <tr>\n",
       "      <th>6542</th>\n",
       "      <td>B0B3X1PX3P</td>\n",
       "      <td>2</td>\n",
       "      <td>1.0</td>\n",
       "      <td>2476.0</td>\n",
       "      <td>1238.000000</td>\n",
       "      <td>1.000000</td>\n",
       "      <td>Set</td>\n",
       "      <td>M</td>\n",
       "      <td>Bihar</td>\n",
       "      <td>2022-06-24</td>\n",
       "      <td>2022-06-27</td>\n",
       "      <td>2</td>\n",
       "      <td>5</td>\n",
       "    </tr>\n",
       "    <tr>\n",
       "      <th>6543</th>\n",
       "      <td>B0B3X1ZSZP</td>\n",
       "      <td>3</td>\n",
       "      <td>1.5</td>\n",
       "      <td>2313.0</td>\n",
       "      <td>1156.500000</td>\n",
       "      <td>1.000000</td>\n",
       "      <td>Set</td>\n",
       "      <td>3XL</td>\n",
       "      <td>Andhra Pradesh</td>\n",
       "      <td>2022-06-24</td>\n",
       "      <td>2022-06-26</td>\n",
       "      <td>2</td>\n",
       "      <td>5</td>\n",
       "    </tr>\n",
       "    <tr>\n",
       "      <th>6544</th>\n",
       "      <td>B0B3X2392D</td>\n",
       "      <td>1</td>\n",
       "      <td>1.0</td>\n",
       "      <td>1238.0</td>\n",
       "      <td>1238.000000</td>\n",
       "      <td>1.000000</td>\n",
       "      <td>Set</td>\n",
       "      <td>XXL</td>\n",
       "      <td>Assam</td>\n",
       "      <td>2022-06-24</td>\n",
       "      <td>2022-06-24</td>\n",
       "      <td>1</td>\n",
       "      <td>5</td>\n",
       "    </tr>\n",
       "    <tr>\n",
       "      <th>6545</th>\n",
       "      <td>B0B3X2WPTW</td>\n",
       "      <td>2</td>\n",
       "      <td>1.0</td>\n",
       "      <td>2485.0</td>\n",
       "      <td>1242.500000</td>\n",
       "      <td>1.000000</td>\n",
       "      <td>Set</td>\n",
       "      <td>XXL</td>\n",
       "      <td>Jharkhand</td>\n",
       "      <td>2022-06-23</td>\n",
       "      <td>2022-06-25</td>\n",
       "      <td>2</td>\n",
       "      <td>6</td>\n",
       "    </tr>\n",
       "    <tr>\n",
       "      <th>6546</th>\n",
       "      <td>B0B3X45961</td>\n",
       "      <td>1</td>\n",
       "      <td>1.0</td>\n",
       "      <td>801.0</td>\n",
       "      <td>801.000000</td>\n",
       "      <td>1.000000</td>\n",
       "      <td>kurta</td>\n",
       "      <td>M</td>\n",
       "      <td>Karnataka</td>\n",
       "      <td>2022-06-23</td>\n",
       "      <td>2022-06-23</td>\n",
       "      <td>1</td>\n",
       "      <td>6</td>\n",
       "    </tr>\n",
       "  </tbody>\n",
       "</table>\n",
       "<p>6547 rows × 13 columns</p>\n",
       "</div>"
      ],
      "text/plain": [
       "     amazon_standard_id  total_qty  avg_qty_per_order  total_sales  \\\n",
       "0            B01LYC0N7Q          3                1.0       1230.0   \n",
       "1            B01LYC0NV1         10                1.0       2986.0   \n",
       "2            B01LZMXYSV          5                1.0       1499.0   \n",
       "3            B01LZYQ93J          4                1.0       1204.0   \n",
       "4            B01M0LXTZE          7                1.0       2644.0   \n",
       "...                 ...        ...                ...          ...   \n",
       "6542         B0B3X1PX3P          2                1.0       2476.0   \n",
       "6543         B0B3X1ZSZP          3                1.5       2313.0   \n",
       "6544         B0B3X2392D          1                1.0       1238.0   \n",
       "6545         B0B3X2WPTW          2                1.0       2485.0   \n",
       "6546         B0B3X45961          1                1.0        801.0   \n",
       "\n",
       "      avg_sales_per_order  promo_used_ratio freq_category freq_size  \\\n",
       "0              410.000000          0.333333         kurta        XL   \n",
       "1              298.600000          0.700000         kurta        XL   \n",
       "2              299.800000          0.800000         kurta         S   \n",
       "3              301.000000          0.750000         kurta         M   \n",
       "4              377.714286          0.857143         kurta         M   \n",
       "...                   ...               ...           ...       ...   \n",
       "6542          1238.000000          1.000000           Set         M   \n",
       "6543          1156.500000          1.000000           Set       3XL   \n",
       "6544          1238.000000          1.000000           Set       XXL   \n",
       "6545          1242.500000          1.000000           Set       XXL   \n",
       "6546           801.000000          1.000000         kurta         M   \n",
       "\n",
       "     freq_ship_state last_order_date first_order_date  total_transactions  \\\n",
       "0              Delhi      2022-04-02       2022-06-25                   3   \n",
       "1         Tamil Nadu      2022-04-06       2022-06-15                  10   \n",
       "2          Karnataka      2022-04-08       2022-06-24                   5   \n",
       "3         Tamil Nadu      2022-06-04       2022-06-23                   4   \n",
       "4          Karnataka      2022-04-14       2022-05-09                   7   \n",
       "...              ...             ...              ...                 ...   \n",
       "6542           Bihar      2022-06-24       2022-06-27                   2   \n",
       "6543  Andhra Pradesh      2022-06-24       2022-06-26                   2   \n",
       "6544           Assam      2022-06-24       2022-06-24                   1   \n",
       "6545       Jharkhand      2022-06-23       2022-06-25                   2   \n",
       "6546       Karnataka      2022-06-23       2022-06-23                   1   \n",
       "\n",
       "      recency_days  \n",
       "0               88  \n",
       "1               84  \n",
       "2               82  \n",
       "3               25  \n",
       "4               76  \n",
       "...            ...  \n",
       "6542             5  \n",
       "6543             5  \n",
       "6544             5  \n",
       "6545             6  \n",
       "6546             6  \n",
       "\n",
       "[6547 rows x 13 columns]"
      ]
     },
     "execution_count": 11,
     "metadata": {},
     "output_type": "execute_result"
    }
   ],
   "source": [
    "agg_df"
   ]
  },
  {
   "cell_type": "code",
   "execution_count": 12,
   "id": "cc6e7a9d",
   "metadata": {},
   "outputs": [],
   "source": [
    "cluster_df = agg_df.drop(columns=['amazon_standard_id','last_order_date','first_order_date'])"
   ]
  },
  {
   "cell_type": "code",
   "execution_count": 13,
   "id": "9c064485",
   "metadata": {},
   "outputs": [],
   "source": [
    "num_cols = cluster_df[['total_qty',\t'avg_qty_per_order', 'total_sales',\t'avg_sales_per_order', 'promo_used_ratio', 'total_transactions', 'recency_days']]"
   ]
  },
  {
   "cell_type": "code",
   "execution_count": 14,
   "id": "e4435385",
   "metadata": {},
   "outputs": [],
   "source": [
    "def check_skewness(df):\n",
    "    list_corr = []\n",
    "\n",
    "    for col in df.columns:\n",
    "        skew_val = round(df[col].skew(), 1)\n",
    "\n",
    "        if -0.5 <= skew_val <= 0.5:\n",
    "            distribusi = 'normal'\n",
    "        elif -1 <= skew_val <= 1:\n",
    "            distribusi = 'moderate skewed'\n",
    "        else:\n",
    "            distribusi = 'highly skewed'\n",
    "\n",
    "        list_corr.append({\n",
    "            'fitur': col,\n",
    "            'skewness': skew_val,\n",
    "            'distribusi': distribusi\n",
    "        })\n",
    "\n",
    "    return pd.DataFrame(list_corr)"
   ]
  },
  {
   "cell_type": "code",
   "execution_count": 15,
   "id": "1930963e",
   "metadata": {},
   "outputs": [
    {
     "data": {
      "text/html": [
       "<div>\n",
       "<style scoped>\n",
       "    .dataframe tbody tr th:only-of-type {\n",
       "        vertical-align: middle;\n",
       "    }\n",
       "\n",
       "    .dataframe tbody tr th {\n",
       "        vertical-align: top;\n",
       "    }\n",
       "\n",
       "    .dataframe thead th {\n",
       "        text-align: right;\n",
       "    }\n",
       "</style>\n",
       "<table border=\"1\" class=\"dataframe\">\n",
       "  <thead>\n",
       "    <tr style=\"text-align: right;\">\n",
       "      <th></th>\n",
       "      <th>fitur</th>\n",
       "      <th>skewness</th>\n",
       "      <th>distribusi</th>\n",
       "    </tr>\n",
       "  </thead>\n",
       "  <tbody>\n",
       "    <tr>\n",
       "      <th>0</th>\n",
       "      <td>total_qty</td>\n",
       "      <td>6.5</td>\n",
       "      <td>highly skewed</td>\n",
       "    </tr>\n",
       "    <tr>\n",
       "      <th>1</th>\n",
       "      <td>avg_qty_per_order</td>\n",
       "      <td>46.4</td>\n",
       "      <td>highly skewed</td>\n",
       "    </tr>\n",
       "    <tr>\n",
       "      <th>2</th>\n",
       "      <td>total_sales</td>\n",
       "      <td>8.7</td>\n",
       "      <td>highly skewed</td>\n",
       "    </tr>\n",
       "    <tr>\n",
       "      <th>3</th>\n",
       "      <td>avg_sales_per_order</td>\n",
       "      <td>1.1</td>\n",
       "      <td>highly skewed</td>\n",
       "    </tr>\n",
       "    <tr>\n",
       "      <th>4</th>\n",
       "      <td>promo_used_ratio</td>\n",
       "      <td>-0.5</td>\n",
       "      <td>normal</td>\n",
       "    </tr>\n",
       "    <tr>\n",
       "      <th>5</th>\n",
       "      <td>total_transactions</td>\n",
       "      <td>6.5</td>\n",
       "      <td>highly skewed</td>\n",
       "    </tr>\n",
       "    <tr>\n",
       "      <th>6</th>\n",
       "      <td>recency_days</td>\n",
       "      <td>-1.4</td>\n",
       "      <td>highly skewed</td>\n",
       "    </tr>\n",
       "  </tbody>\n",
       "</table>\n",
       "</div>"
      ],
      "text/plain": [
       "                 fitur  skewness     distribusi\n",
       "0            total_qty       6.5  highly skewed\n",
       "1    avg_qty_per_order      46.4  highly skewed\n",
       "2          total_sales       8.7  highly skewed\n",
       "3  avg_sales_per_order       1.1  highly skewed\n",
       "4     promo_used_ratio      -0.5         normal\n",
       "5   total_transactions       6.5  highly skewed\n",
       "6         recency_days      -1.4  highly skewed"
      ]
     },
     "execution_count": 15,
     "metadata": {},
     "output_type": "execute_result"
    }
   ],
   "source": [
    "skewness = check_skewness(num_cols)\n",
    "skewness"
   ]
  },
  {
   "cell_type": "code",
   "execution_count": null,
   "id": "acfde2d3",
   "metadata": {},
   "outputs": [
    {
     "data": {
      "text/html": [
       "<div>\n",
       "<style scoped>\n",
       "    .dataframe tbody tr th:only-of-type {\n",
       "        vertical-align: middle;\n",
       "    }\n",
       "\n",
       "    .dataframe tbody tr th {\n",
       "        vertical-align: top;\n",
       "    }\n",
       "\n",
       "    .dataframe thead th {\n",
       "        text-align: right;\n",
       "    }\n",
       "</style>\n",
       "<table border=\"1\" class=\"dataframe\">\n",
       "  <thead>\n",
       "    <tr style=\"text-align: right;\">\n",
       "      <th></th>\n",
       "      <th>column</th>\n",
       "      <th>upper_boundary</th>\n",
       "      <th>lower_boundary</th>\n",
       "      <th>percentage_total_outlier</th>\n",
       "    </tr>\n",
       "  </thead>\n",
       "  <tbody>\n",
       "    <tr>\n",
       "      <th>0</th>\n",
       "      <td>total_qty</td>\n",
       "      <td>42.00</td>\n",
       "      <td>-28.00</td>\n",
       "      <td>5.38</td>\n",
       "    </tr>\n",
       "    <tr>\n",
       "      <th>1</th>\n",
       "      <td>avg_qty_per_order</td>\n",
       "      <td>1.00</td>\n",
       "      <td>1.00</td>\n",
       "      <td>3.18</td>\n",
       "    </tr>\n",
       "    <tr>\n",
       "      <th>2</th>\n",
       "      <td>total_sales</td>\n",
       "      <td>26148.00</td>\n",
       "      <td>-17626.50</td>\n",
       "      <td>6.37</td>\n",
       "    </tr>\n",
       "    <tr>\n",
       "      <th>3</th>\n",
       "      <td>avg_sales_per_order</td>\n",
       "      <td>1774.74</td>\n",
       "      <td>-577.29</td>\n",
       "      <td>0.03</td>\n",
       "    </tr>\n",
       "    <tr>\n",
       "      <th>4</th>\n",
       "      <td>promo_used_ratio</td>\n",
       "      <td>1.54</td>\n",
       "      <td>-0.26</td>\n",
       "      <td>0.00</td>\n",
       "    </tr>\n",
       "    <tr>\n",
       "      <th>5</th>\n",
       "      <td>total_transactions</td>\n",
       "      <td>40.00</td>\n",
       "      <td>-26.50</td>\n",
       "      <td>5.68</td>\n",
       "    </tr>\n",
       "    <tr>\n",
       "      <th>6</th>\n",
       "      <td>recency_days</td>\n",
       "      <td>161.00</td>\n",
       "      <td>-14.00</td>\n",
       "      <td>0.00</td>\n",
       "    </tr>\n",
       "  </tbody>\n",
       "</table>\n",
       "</div>"
      ],
      "text/plain": [
       "                column  upper_boundary  lower_boundary  \\\n",
       "0            total_qty           42.00          -28.00   \n",
       "1    avg_qty_per_order            1.00            1.00   \n",
       "2          total_sales        26148.00       -17626.50   \n",
       "3  avg_sales_per_order         1774.74         -577.29   \n",
       "4     promo_used_ratio            1.54           -0.26   \n",
       "5   total_transactions           40.00          -26.50   \n",
       "6         recency_days          161.00          -14.00   \n",
       "\n",
       "   percentage_total_outlier  \n",
       "0                      5.38  \n",
       "1                      3.18  \n",
       "2                      6.37  \n",
       "3                      0.03  \n",
       "4                      0.00  \n",
       "5                      5.68  \n",
       "6                      0.00  "
      ]
     },
     "execution_count": 16,
     "metadata": {},
     "output_type": "execute_result"
    }
   ],
   "source": [
    "# Calculate upper boundary, lower boundary, and percentage of outliers\n",
    "\n",
    "# Initialize empty lists to store results\n",
    "column = []\n",
    "lower_bound = []\n",
    "upper_bound = []\n",
    "percent_total_outlier = []\n",
    "\n",
    "for row in range (0, len(skewness)):\n",
    "  col = skewness['fitur'][row]\n",
    "\n",
    "  # Calculate upper and lower boundaries based on distribution type\n",
    "  if skewness['distribusi'][row] == 'highly skewed':\n",
    "    IQR = cluster_df[col].quantile(0.75) - cluster_df[col].quantile(0.25)\n",
    "    lower_boundary = cluster_df[col].quantile(0.25) - (IQR * 3)\n",
    "    upper_boundary = cluster_df[col].quantile(0.75) + (IQR * 3)\n",
    "  elif skewness['distribusi'][row] == 'moderate skewed':\n",
    "    IQR = cluster_df[col].quantile(0.75) - cluster_df[col].quantile(0.25)\n",
    "    lower_boundary = cluster_df[col].quantile(0.25) - (IQR * 1.5)\n",
    "    upper_boundary = cluster_df[col].quantile(0.75) + (IQR * 1.5)\n",
    "  else:\n",
    "    lower_boundary = cluster_df[col].mean() - 3* cluster_df[col].std()\n",
    "    upper_boundary = cluster_df[col].mean() + 3* cluster_df[col].std()\n",
    "\n",
    "  # Append results to lists\n",
    "  column.append(col)\n",
    "  lower_bound.append(lower_boundary)\n",
    "  upper_bound.append(upper_boundary)\n",
    "  totout = ((len(cluster_df[cluster_df[col] > upper_boundary]) / len(cluster_df) * 100) + (len(cluster_df[cluster_df[col] < lower_boundary]) / len(cluster_df) * 100))\n",
    "  percent_total_outlier.append(totout)\n",
    "\n",
    "# Create dataframe\n",
    "outliers = pd.DataFrame({\n",
    "    'column': column,\n",
    "\n",
    "    'upper_boundary': [round(upper_bound,2) for upper_bound in upper_bound],\n",
    "    'lower_boundary': [round(lower_bound,2) for lower_bound in lower_bound],\n",
    "    'percentage_total_outlier': [round(percent_total_outlier,2) for percent_total_outlier in percent_total_outlier]\n",
    "})\n",
    "outliers"
   ]
  },
  {
   "cell_type": "code",
   "execution_count": 17,
   "id": "8ac71991",
   "metadata": {},
   "outputs": [],
   "source": [
    "selected_cols=['total_qty', 'avg_qty_per_order', 'total_sales', 'total_transactions']"
   ]
  },
  {
   "cell_type": "code",
   "execution_count": 18,
   "id": "f142ed10",
   "metadata": {},
   "outputs": [],
   "source": [
    "# capping\n",
    "winsoriser = Winsorizer(capping_method='quantiles',\n",
    "                            tail='both',\n",
    "                            fold=0.01,\n",
    "                            variables= selected_cols,\n",
    "                            missing_values='ignore')\n",
    "\n",
    "cluster_df = winsoriser.fit_transform(cluster_df)"
   ]
  },
  {
   "cell_type": "code",
   "execution_count": 19,
   "id": "25b887d7",
   "metadata": {},
   "outputs": [
    {
     "data": {
      "text/html": [
       "<div>\n",
       "<style scoped>\n",
       "    .dataframe tbody tr th:only-of-type {\n",
       "        vertical-align: middle;\n",
       "    }\n",
       "\n",
       "    .dataframe tbody tr th {\n",
       "        vertical-align: top;\n",
       "    }\n",
       "\n",
       "    .dataframe thead th {\n",
       "        text-align: right;\n",
       "    }\n",
       "</style>\n",
       "<table border=\"1\" class=\"dataframe\">\n",
       "  <thead>\n",
       "    <tr style=\"text-align: right;\">\n",
       "      <th></th>\n",
       "      <th>total_qty</th>\n",
       "      <th>avg_qty_per_order</th>\n",
       "      <th>total_sales</th>\n",
       "      <th>avg_sales_per_order</th>\n",
       "      <th>promo_used_ratio</th>\n",
       "      <th>freq_category</th>\n",
       "      <th>freq_size</th>\n",
       "      <th>freq_ship_state</th>\n",
       "      <th>total_transactions</th>\n",
       "      <th>recency_days</th>\n",
       "    </tr>\n",
       "  </thead>\n",
       "  <tbody>\n",
       "    <tr>\n",
       "      <th>0</th>\n",
       "      <td>3</td>\n",
       "      <td>1.0</td>\n",
       "      <td>1230.0</td>\n",
       "      <td>410.000000</td>\n",
       "      <td>0.333333</td>\n",
       "      <td>kurta</td>\n",
       "      <td>XL</td>\n",
       "      <td>Delhi</td>\n",
       "      <td>3</td>\n",
       "      <td>88</td>\n",
       "    </tr>\n",
       "    <tr>\n",
       "      <th>1</th>\n",
       "      <td>10</td>\n",
       "      <td>1.0</td>\n",
       "      <td>2986.0</td>\n",
       "      <td>298.600000</td>\n",
       "      <td>0.700000</td>\n",
       "      <td>kurta</td>\n",
       "      <td>XL</td>\n",
       "      <td>Tamil Nadu</td>\n",
       "      <td>10</td>\n",
       "      <td>84</td>\n",
       "    </tr>\n",
       "    <tr>\n",
       "      <th>2</th>\n",
       "      <td>5</td>\n",
       "      <td>1.0</td>\n",
       "      <td>1499.0</td>\n",
       "      <td>299.800000</td>\n",
       "      <td>0.800000</td>\n",
       "      <td>kurta</td>\n",
       "      <td>S</td>\n",
       "      <td>Karnataka</td>\n",
       "      <td>5</td>\n",
       "      <td>82</td>\n",
       "    </tr>\n",
       "    <tr>\n",
       "      <th>3</th>\n",
       "      <td>4</td>\n",
       "      <td>1.0</td>\n",
       "      <td>1204.0</td>\n",
       "      <td>301.000000</td>\n",
       "      <td>0.750000</td>\n",
       "      <td>kurta</td>\n",
       "      <td>M</td>\n",
       "      <td>Tamil Nadu</td>\n",
       "      <td>4</td>\n",
       "      <td>25</td>\n",
       "    </tr>\n",
       "    <tr>\n",
       "      <th>4</th>\n",
       "      <td>7</td>\n",
       "      <td>1.0</td>\n",
       "      <td>2644.0</td>\n",
       "      <td>377.714286</td>\n",
       "      <td>0.857143</td>\n",
       "      <td>kurta</td>\n",
       "      <td>M</td>\n",
       "      <td>Karnataka</td>\n",
       "      <td>7</td>\n",
       "      <td>76</td>\n",
       "    </tr>\n",
       "  </tbody>\n",
       "</table>\n",
       "</div>"
      ],
      "text/plain": [
       "   total_qty  avg_qty_per_order  total_sales  avg_sales_per_order  \\\n",
       "0          3                1.0       1230.0           410.000000   \n",
       "1         10                1.0       2986.0           298.600000   \n",
       "2          5                1.0       1499.0           299.800000   \n",
       "3          4                1.0       1204.0           301.000000   \n",
       "4          7                1.0       2644.0           377.714286   \n",
       "\n",
       "   promo_used_ratio freq_category freq_size freq_ship_state  \\\n",
       "0          0.333333         kurta        XL           Delhi   \n",
       "1          0.700000         kurta        XL      Tamil Nadu   \n",
       "2          0.800000         kurta         S       Karnataka   \n",
       "3          0.750000         kurta         M      Tamil Nadu   \n",
       "4          0.857143         kurta         M       Karnataka   \n",
       "\n",
       "   total_transactions  recency_days  \n",
       "0                   3            88  \n",
       "1                  10            84  \n",
       "2                   5            82  \n",
       "3                   4            25  \n",
       "4                   7            76  "
      ]
     },
     "execution_count": 19,
     "metadata": {},
     "output_type": "execute_result"
    }
   ],
   "source": [
    "cluster_df.head()"
   ]
  },
  {
   "cell_type": "code",
   "execution_count": null,
   "id": "9721d771",
   "metadata": {},
   "outputs": [],
   "source": [
    "# Compute Gower distance matrix for mixed-type data\n",
    "gower_dist = gower.gower_matrix(cluster_df)"
   ]
  },
  {
   "cell_type": "code",
   "execution_count": null,
   "id": "e0030e40",
   "metadata": {},
   "outputs": [
    {
     "name": "stderr",
     "output_type": "stream",
     "text": [
      "C:\\Users\\Acer\\AppData\\Local\\Temp\\ipykernel_3872\\2796066900.py:2: ClusterWarning: The symmetric non-negative hollow observation matrix looks suspiciously like an uncondensed distance matrix\n",
      "  linkage_matrix = linkage(gower_dist, method='average')\n"
     ]
    }
   ],
   "source": [
    "# Perform hierarchical clustering using average linkage\n",
    "linkage_matrix = linkage(gower_dist, method='average')"
   ]
  },
  {
   "cell_type": "code",
   "execution_count": null,
   "id": "5ae048e7",
   "metadata": {},
   "outputs": [
    {
     "data": {
      "image/png": "[encoded data removed]",
      "text/plain": [
       "<Figure size 1000x500 with 1 Axes>"
      ]
     },
     "metadata": {},
     "output_type": "display_data"
    }
   ],
   "source": [
    "# Plot the dendrogram\n",
    "plt.figure(figsize=(10, 5))\n",
    "dendrogram(linkage_matrix)\n",
    "plt.title(\"Dendrogram - Tentukan Jumlah Klaster\")\n",
    "plt.xlabel(\"Data Point\")\n",
    "plt.ylabel(\"Jarak (Distance)\")\n",
    "plt.show()"
   ]
  },
  {
   "cell_type": "code",
   "execution_count": 23,
   "id": "67ac7686",
   "metadata": {},
   "outputs": [
    {
     "name": "stdout",
     "output_type": "stream",
     "text": [
      "Jumlah Klaster: 2 -> Silhouette Score: 0.3072\n",
      "Jumlah Klaster: 3 -> Silhouette Score: 0.1996\n",
      "Jumlah Klaster: 4 -> Silhouette Score: 0.1420\n",
      "Jumlah Klaster: 5 -> Silhouette Score: 0.1273\n",
      "Jumlah Klaster: 6 -> Silhouette Score: 0.0776\n"
     ]
    }
   ],
   "source": [
    "scores = []\n",
    "range_n_clusters = range(2, 7)\n",
    "\n",
    "for n in range_n_clusters:\n",
    "    model = AgglomerativeClustering(n_clusters=n, metric='precomputed', linkage='average')\n",
    "    labels = model.fit_predict(gower_dist)\n",
    "    \n",
    "    score = silhouette_score(gower_dist, labels, metric='precomputed')\n",
    "    print(f'Jumlah Klaster: {n} -> Silhouette Score: {score:.4f}')\n",
    "    scores.append(score)"
   ]
  },
  {
   "cell_type": "code",
   "execution_count": 24,
   "id": "e68ed563",
   "metadata": {},
   "outputs": [
    {
     "data": {
      "image/png": "[encoded data removed]",
      "text/plain": [
       "<Figure size 800x500 with 1 Axes>"
      ]
     },
     "metadata": {},
     "output_type": "display_data"
    }
   ],
   "source": [
    "plt.figure(figsize=(8,5))\n",
    "plt.plot(range_n_clusters, scores, marker='o', linestyle='-', color='skyblue')\n",
    "plt.xlabel('Jumlah Klaster')\n",
    "plt.ylabel('Silhouette Score')\n",
    "plt.title('Menentukan Jumlah Klaster dengan Silhouette Score')\n",
    "plt.grid(True)\n",
    "plt.show()"
   ]
  },
  {
   "cell_type": "code",
   "execution_count": null,
   "id": "e4faca1a",
   "metadata": {},
   "outputs": [
    {
     "data": {
      "image/png": "[encoded data removed]",
      "text/plain": [
       "<Figure size 800x600 with 1 Axes>"
      ]
     },
     "metadata": {},
     "output_type": "display_data"
    }
   ],
   "source": [
    "# Cut dendrogram into 3 clusters\n",
    "cluster_labels = fcluster(linkage_matrix, t=3, criterion='maxclust')\n",
    "\n",
    "mds = MDS(n_components=2, dissimilarity='precomputed', random_state=42)\n",
    "gower_2d = mds.fit_transform(gower_dist)\n",
    "\n",
    "# Plot scatterplot clustering\n",
    "plt.figure(figsize=(8, 6))\n",
    "plt.scatter(gower_2d[:, 0], gower_2d[:, 1], c=cluster_labels, cmap='Set1', s=50)\n",
    "plt.title('Visualisasi Klaster dengan MDS (2D)')\n",
    "plt.xlabel('Komponen 1')\n",
    "plt.ylabel('Komponen 2')\n",
    "plt.grid(True)\n",
    "plt.show()\n"
   ]
  },
  {
   "cell_type": "code",
   "execution_count": null,
   "id": "7c9237e1",
   "metadata": {},
   "outputs": [
    {
     "data": {
      "image/png": "[encoded data removed]",
      "text/plain": [
       "<Figure size 1000x800 with 1 Axes>"
      ]
     },
     "metadata": {},
     "output_type": "display_data"
    }
   ],
   "source": [
    "# MDS for 3D\n",
    "mds = MDS(n_components=3, dissimilarity='precomputed', random_state=42)\n",
    "gower_3d = mds.fit_transform(gower_dist)\n",
    "\n",
    "# 3D Visualization of Clusters\n",
    "fig = plt.figure(figsize=(10, 8))\n",
    "ax = fig.add_subplot(111, projection='3d')\n",
    "\n",
    "scatter = ax.scatter(\n",
    "    gower_3d[:, 0], gower_3d[:, 1], gower_3d[:, 2],\n",
    "    c=cluster_labels,\n",
    "    cmap='Set1',\n",
    "    s=50\n",
    ")\n",
    "\n",
    "ax.set_title('Visualisasi Klaster dengan MDS (3D)')\n",
    "ax.set_xlabel('Komponen 1')\n",
    "ax.set_ylabel('Komponen 2')\n",
    "ax.set_zlabel('Komponen 3')\n",
    "\n",
    "plt.show()\n"
   ]
  },
  {
   "cell_type": "code",
   "execution_count": null,
   "id": "d8024514",
   "metadata": {},
   "outputs": [
    {
     "data": {
      "application/vnd.plotly.v1+json": {
       "config": {
        "plotlyServerURL": "https://plot.ly"
       },
       "data": [
        {
         "hovertemplate": "Klaster=3<br>Komponen 1=%{x}<br>Komponen 2=%{y}<br>Komponen 3=%{z}<extra></extra>",
         "legendgroup": "3",
         "marker": {
          "color": "#636efa",
          "opacity": 0.8,
          "symbol": "circle"
         },
         "mode": "markers",
         "name": "3",
         "scene": "scene",
         "showlegend": true,
         "type": "scatter3d",
         "x": {
          "bdata": "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",
          "dtype": "f8"
         },
         "y": {
          "bdata": "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",
          "dtype": "f8"
         },
         "z": {
          "bdata": "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",
          "dtype": "f8"
         }
        },
        {
         "hovertemplate": "Klaster=2<br>Komponen 1=%{x}<br>Komponen 2=%{y}<br>Komponen 3=%{z}<extra></extra>",
         "legendgroup": "2",
         "marker": {
          "color": "#EF553B",
          "opacity": 0.8,
          "symbol": "circle"
         },
         "mode": "markers",
         "name": "2",
         "scene": "scene",
         "showlegend": true,
         "type": "scatter3d",
         "x": {
          "bdata": "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",
          "dtype": "f8"
         },
         "y": {
          "bdata": "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",
          "dtype": "f8"
         },
         "z": {
          "bdata": "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",
          "dtype": "f8"
         }
        },
        {
         "hovertemplate": "Klaster=1<br>Komponen 1=%{x}<br>Komponen 2=%{y}<br>Komponen 3=%{z}<extra></extra>",
         "legendgroup": "1",
         "marker": {
          "color": "#00cc96",
          "opacity": 0.8,
          "symbol": "circle"
         },
         "mode": "markers",
         "name": "1",
         "scene": "scene",
         "showlegend": true,
         "type": "scatter3d",
         "x": {
          "bdata": "JkstU3GryD+QXavR/mmkv3xzh9vAybo/L7tCHbIIoz9DMYvv3nqkPyONDT67fKk/m4mmYb7tyz8sbhxPuG3PP8GgV/1oK8A/vObwpRYTyT+JMf4ZHRDKP02mC1J8MM4/+7khZhico7+chVdfI4jQP4lNtWvx92u/YFFaBQeH0D8uJ8Skj6qwP5FmA65vcc8/DZmKgEtxhr/cvCwnLh+Wv/j9aRO2u4E/bti8vQ2ZiT+mobg/RcKWv1+8s+60NaW/w6WLwA6tpD9jFVk/KdquPyffLpq1Vtw/c3iE5A+t2j9sNvdKLf3DP3PlMsYR7Ng/u0MMoorIxT8zG/DM5BbDP8JQxtLpNtk/8GA/ivkr2j8GCktnhk/aP23o+B9FR9k/OtP/QUrHyT9ltBEfZ5fIP2DXJMg2eco/zWAPYjKFyT+2XemN40jZP8eqKK/VWtQ/vv92SyQ92D+X1mQYGgrWPyp2E2rD4tw/kE3a91EgwD+bZhEzHHDVP3sKj5KTHbc/h+Ssm99I3j/Z0BI96kWBv5mHYJMfGdk/V7Pk169W2j+U38iBw8/aPzfGuib/zto/KnZr0IpK1z9K+5UO3svZP843Y+UFUdw/QR0khgbG1z8ys13MebXbPxEGHDWGK9w/WehYlM462T+kfBSgJ0XfP2OzGnqgbp8/8I8tUS4xxD9EquBWGtfDP18Js86+/dQ/Ak4kYc68wz+w02w9b0rYP6/Ww/rzU7U/LXijn2Nw2D/hfCeHSnO+PwlTnXkASsc/fqPJdJUU2z+BEPv/9KXBPzxOdTi0fLQ/jimGTLS31D+PG0MX/7TVP9qUxeTK674/+QeiOVMmzz/qL+AFDd2xP1V6pJfR3tg/zeDaFIr+0D9kniAudOHAP2rWhMSx674/O5fJB40I1D8XEXTwRorCP1Zv39l2W9Q/De+q8MJpwD/+fyGF/pjVP1mqUYpKkpG/2Ksr94PD2z87MNKm/nnCP5jx5EYvN9c//KSXCfUDpT8esCXXAZDaP38hBmJpTtI/veg7zrL/1z/51b89gTvXP+wxr3XI3Nk/W338Tte+oj8D6V6muSCrP8/0Xa4dUco/ibDzAAsuwj9QBsBfzoW4P51J4dbe3sA/bsl4TCVL1z8OTjQJXZ/APwffudE34sQ/UEgPJ60I2D/PwJPE/frWPwYHHE7JYNU/ZZCGkykB1T9YEEnjzozYPzmcYUOq1Ng//KrAf2XnpL/UeBlTAGfPP/nyRBPEXZm//g+i5ZTp1T+6Z/9EWZTaP+U9DbS2ytU/FFjh/QUv2D80H6vdNF7GP2/X5Fbrxtk/QkXtLoAPq79Sm8gw64qgv+OxI94DNtM/76/ihq5Sxr9tNT49I1fJvw==",
          "dtype": "f8"
         },
         "y": {
          "bdata": "a6obQalD0D+L6ALZzBDBPz+2bd1sf9M/M7uBoLKk0D/ox4TWMtLQP8mNdq73RM8/htTUDyFK0D/fXJf9fXnRP3JnNZ/IZdU/0reldQ5Mzz9acOAKjxbQPw4OzamONtE/MZECBJqmwT/0H23Nu/rRP8irdb3Ffsc/cbZfTbqa0j9WI2m3LWXOP95jXGi+Q9E/zZkRypawxD+Rpamrmj/EP6QJBSxaIc0/z0mfc+h6zD8efC2qox3GPzhO5iP9tcE/ygqFMHr6yz9noKNRuOexvwbcJ26HqsO/IpGjQVKUx7+7849Y40DMvxyMq5VESsq/cSIzx6Gc0r/xZc9e1IeFv7bNOakZice/rs3i5xtvwr9t+JTd257Dv2kQU+vcosC/IO1GT7H+zj/hz5cA5RvPP4cgVLBTCNA/MoH/4xa9zT9UVSSQDcHCPxbHTuvzc7Q/b9/iLaW8wT8Aiwo1wI/DP9/ujzpKE8A//6kC6iLPj7+7pbrH1RmyP6les9kFTKe/8gxOAzZywj80kYeYTwXHP7oZpKah4Mm/j3WdoAqA0L9W2ZqVRhDLv2h8xDAm2MW/e9DQ74l+z78fIOsBbqi/v2ybg4re97q/uwOL9iNyyL96hIxySCrBv/TBs40P0bu/zDbf7JRRv7+LZ3T0V/HGvzcBljzzS84/OyR+03oFzr87gB2eJjLNv/AUAsjiKME/GfBvXLKczb/1TWCoTLa2P+4SZ26lCqm/yWNLUbAJqD8IMcfUYDywv63rwJwZKpa/CZXF7eU6sz8Vbgc9Eiqgv2ePdtesmrG/1riJzIHtpD9m83nam32oP/RoxmSpurW/25V3Lmaikz82zCb9Kemzv6kMajvWa6c/6IKgmLpRmj+FS0OODADVv2c2d60/SZE/UH0AUyG8qj/rWiOVACKePzAa/QSdSMA/WrMyjXZq1r9eUd6GwGBrvw/LQDMJosi/UeJJNrpZkb+oyG7atWLEvywugqkLgYO/ZhVhnNaNxL/AlmHFR32XP6+NOS/CIp8/7H0lzRJbuj9F+lgqY9u5P/HHnkpV0sM/IRQ12DOcyT8QiS5L9KzMP5Yf1Lbkfcu/8UKOE7tIz7/0tvdIv9LRv83mUuC4oNG/L+DcVjPMxb9pitnkhJ3Mv3mRlJE9k86/KsQmlzINw79/L2sh6t3Gv2M6Zq9//8y/SXi/TRI8xb/F11+H2vTBv8rg81Gnv76/PeW7929Sx7/7jxrpHWqRv+cEQImmAcW/DbMdt+aznL/jqtsdnGdgP5+I+jseqaG/03HQEWoNnb/yZ9LQfnPBv0oAIl/gRZq/DsmzjSN/yb/MhOMmqwG0PwM/0ixBGH2/3xzRnvLPyb9gq+4p3YbOvw==",
          "dtype": "f8"
         },
         "z": {
          "bdata": "jIZX47JC178Vr5jmeQnbv3Te6BJg7ti/WBQD0G22378RJ6UL8Czcv/ha9Mfr0Ny/h9OBHXZD2b8agznQgcjUv/mXYcdsVdu/XTlcIErf2L+Pke54sAPZv2ZjvEaXNNi/G6L5rc1C3b8Bm7eAwvDXv+rGcaqEg92/7j+/cZ3p1r8lcpzodcvZv9UgDJtkUNe/j7nyGVn/3r+gaGyfrAfgv5pRBCixYt2/FoXZl1zd3r/t7AX+td3dv3uZYBaE792/jOEbW5W13r9nlcgmhYnbv8eqpVHdg9C/ozNmYoEBzL++WmxPyXXYv11F8noGotG/VC1WacLC2L/t21PYWYzYv99dOlUkZ9K/h5TiG4sO07/aq+usM7zTv886xG1xC9S/wGyB+PUA17+d+uzEMSLZv27KuuwcRNe/ItNx4BRu2r82XIYGkRjKv+p65K4JjcC/afIFw264x7+w7HYs9zzLv2EFb2eR99G/6tA07D5V4b8mMb3/uYLQv3MkqIrtht2/Q5jVp8Bt0L/EjSN3dOLcv+a32IvqP9S/GyNcfDs5zr8+V0sfZQ7Rv+G7Qpl6RdS/AY+B+sxT1L8Q1RJEAxjUv+A6U4FAZdC/dULfa4ef1L9aINl7NEDRv0aq87KafdG/C2+FUDH11L9CXJsdf5fRv3X7hEJ1hNm/HQdqFWZQ27/+9SXYrbvbv26/+HYgXci/LsWg6t942r/vcG/h5IzPv9wQvbC7XNu/E67HeL2Q2b+ohTtS23fev1gx67Iyp9u/atIo9qbo0b+0nBXMmaHZv4EQhw+kf9y/QQZw3ktKzb9OlMBHovnTv2FAcQCtVeG/0flPsIfP1L9AB6FrSqrbv8bBR0NK7Ne/yw1U9QiQ0L96TnLVyW7avxGeIKw0INm/3q5FOwF5zb/1BTrC/NLZv4Ece5f4qMi//8AVf5Jb2b9uvMBrrxXav1uNT6vuAeG/eY3JNMdW2L8Pgzo0T0jhvzs/cYr6udq/26MFUuis4L+84YJI7OLWv9JTzjzJRs2/3sWxtaRL0r8y8Kyyb/3SvzasqnYtX8i/SP6f/Hw22r85IO6cSCvcv4xGMKPj9tq/RjRbcLy23L99q7diko/bv4EwiubG5Nq/SGecEQWv1r8ouWdImfDav3VDq2HMcNm/xKoFTRwV1b8BuUYVgxHVv7ARBLeTENW/sd6t5aYz1L8EbaLDUh7VvzjGI9n/r9W/AFvoFMAF4b9Ps6t67GHTvyQ5hZgjFt+/gRNodbxM3L+ljhN+1AzXv3YOLVp9v9y/NrtEN7bN2b/HkdSpR//gv8T4B3q4jti/CRz1lR6F4L9OR0+b5NHev/wxs0F/4tC/yrtxaWJQ179NlGuPI/jcvw==",
          "dtype": "f8"
         }
        }
       ],
       "layout": {
        "height": 600,
        "legend": {
         "title": {
          "text": "Klaster"
         },
         "tracegroupgap": 0
        },
        "scene": {
         "domain": {
          "x": [
           0,
           1
          ],
          "y": [
           0,
           1
          ]
         },
         "xaxis": {
          "title": {
           "text": "Komponen 1"
          }
         },
         "yaxis": {
          "title": {
           "text": "Komponen 2"
          }
         },
         "zaxis": {
          "title": {
           "text": "Komponen 3"
          }
         }
        },
        "template": {
         "data": {
          "bar": [
           {
            "error_x": {
             "color": "#2a3f5f"
            },
            "error_y": {
             "color": "#2a3f5f"
            },
            "marker": {
             "line": {
              "color": "#E5ECF6",
              "width": 0.5
             },
             "pattern": {
              "fillmode": "overlay",
              "size": 10,
              "solidity": 0.2
             }
            },
            "type": "bar"
           }
          ],
          "barpolar": [
           {
            "marker": {
             "line": {
              "color": "#E5ECF6",
              "width": 0.5
             },
             "pattern": {
              "fillmode": "overlay",
              "size": 10,
              "solidity": 0.2
             }
            },
            "type": "barpolar"
           }
          ],
          "carpet": [
           {
            "aaxis": {
             "endlinecolor": "#2a3f5f",
             "gridcolor": "white",
             "linecolor": "white",
             "minorgridcolor": "white",
             "startlinecolor": "#2a3f5f"
            },
            "baxis": {
             "endlinecolor": "#2a3f5f",
             "gridcolor": "white",
             "linecolor": "white",
             "minorgridcolor": "white",
             "startlinecolor": "#2a3f5f"
            },
            "type": "carpet"
           }
          ],
          "choropleth": [
           {
            "colorbar": {
             "outlinewidth": 0,
             "ticks": ""
            },
            "type": "choropleth"
           }
          ],
          "contour": [
           {
            "colorbar": {
             "outlinewidth": 0,
             "ticks": ""
            },
            "colorscale": [
             [
              0,
              "#0d0887"
             ],
             [
              0.1111111111111111,
              "#46039f"
             ],
             [
              0.2222222222222222,
              "#7201a8"
             ],
             [
              0.3333333333333333,
              "#9c179e"
             ],
             [
              0.4444444444444444,
              "#bd3786"
             ],
             [
              0.5555555555555556,
              "#d8576b"
             ],
             [
              0.6666666666666666,
              "#ed7953"
             ],
             [
              0.7777777777777778,
              "#fb9f3a"
             ],
             [
              0.8888888888888888,
              "#fdca26"
             ],
             [
              1,
              "#f0f921"
             ]
            ],
            "type": "contour"
           }
          ],
          "contourcarpet": [
           {
            "colorbar": {
             "outlinewidth": 0,
             "ticks": ""
            },
            "type": "contourcarpet"
           }
          ],
          "heatmap": [
           {
            "colorbar": {
             "outlinewidth": 0,
             "ticks": ""
            },
            "colorscale": [
             [
              0,
              "#0d0887"
             ],
             [
              0.1111111111111111,
              "#46039f"
             ],
             [
              0.2222222222222222,
              "#7201a8"
             ],
             [
              0.3333333333333333,
              "#9c179e"
             ],
             [
              0.4444444444444444,
              "#bd3786"
             ],
             [
              0.5555555555555556,
              "#d8576b"
             ],
             [
              0.6666666666666666,
              "#ed7953"
             ],
             [
              0.7777777777777778,
              "#fb9f3a"
             ],
             [
              0.8888888888888888,
              "#fdca26"
             ],
             [
              1,
              "#f0f921"
             ]
            ],
            "type": "heatmap"
           }
          ],
          "histogram": [
           {
            "marker": {
             "pattern": {
              "fillmode": "overlay",
              "size": 10,
              "solidity": 0.2
             }
            },
            "type": "histogram"
           }
          ],
          "histogram2d": [
           {
            "colorbar": {
             "outlinewidth": 0,
             "ticks": ""
            },
            "colorscale": [
             [
              0,
              "#0d0887"
             ],
             [
              0.1111111111111111,
              "#46039f"
             ],
             [
              0.2222222222222222,
              "#7201a8"
             ],
             [
              0.3333333333333333,
              "#9c179e"
             ],
             [
              0.4444444444444444,
              "#bd3786"
             ],
             [
              0.5555555555555556,
              "#d8576b"
             ],
             [
              0.6666666666666666,
              "#ed7953"
             ],
             [
              0.7777777777777778,
              "#fb9f3a"
             ],
             [
              0.8888888888888888,
              "#fdca26"
             ],
             [
              1,
              "#f0f921"
             ]
            ],
            "type": "histogram2d"
           }
          ],
          "histogram2dcontour": [
           {
            "colorbar": {
             "outlinewidth": 0,
             "ticks": ""
            },
            "colorscale": [
             [
              0,
              "#0d0887"
             ],
             [
              0.1111111111111111,
              "#46039f"
             ],
             [
              0.2222222222222222,
              "#7201a8"
             ],
             [
              0.3333333333333333,
              "#9c179e"
             ],
             [
              0.4444444444444444,
              "#bd3786"
             ],
             [
              0.5555555555555556,
              "#d8576b"
             ],
             [
              0.6666666666666666,
              "#ed7953"
             ],
             [
              0.7777777777777778,
              "#fb9f3a"
             ],
             [
              0.8888888888888888,
              "#fdca26"
             ],
             [
              1,
              "#f0f921"
             ]
            ],
            "type": "histogram2dcontour"
           }
          ],
          "mesh3d": [
           {
            "colorbar": {
             "outlinewidth": 0,
             "ticks": ""
            },
            "type": "mesh3d"
           }
          ],
          "parcoords": [
           {
            "line": {
             "colorbar": {
              "outlinewidth": 0,
              "ticks": ""
             }
            },
            "type": "parcoords"
           }
          ],
          "pie": [
           {
            "automargin": true,
            "type": "pie"
           }
          ],
          "scatter": [
           {
            "fillpattern": {
             "fillmode": "overlay",
             "size": 10,
             "solidity": 0.2
            },
            "type": "scatter"
           }
          ],
          "scatter3d": [
           {
            "line": {
             "colorbar": {
              "outlinewidth": 0,
              "ticks": ""
             }
            },
            "marker": {
             "colorbar": {
              "outlinewidth": 0,
              "ticks": ""
             }
            },
            "type": "scatter3d"
           }
          ],
          "scattercarpet": [
           {
            "marker": {
             "colorbar": {
              "outlinewidth": 0,
              "ticks": ""
             }
            },
            "type": "scattercarpet"
           }
          ],
          "scattergeo": [
           {
            "marker": {
             "colorbar": {
              "outlinewidth": 0,
              "ticks": ""
             }
            },
            "type": "scattergeo"
           }
          ],
          "scattergl": [
           {
            "marker": {
             "colorbar": {
              "outlinewidth": 0,
              "ticks": ""
             }
            },
            "type": "scattergl"
           }
          ],
          "scattermap": [
           {
            "marker": {
             "colorbar": {
              "outlinewidth": 0,
              "ticks": ""
             }
            },
            "type": "scattermap"
           }
          ],
          "scattermapbox": [
           {
            "marker": {
             "colorbar": {
              "outlinewidth": 0,
              "ticks": ""
             }
            },
            "type": "scattermapbox"
           }
          ],
          "scatterpolar": [
           {
            "marker": {
             "colorbar": {
              "outlinewidth": 0,
              "ticks": ""
             }
            },
            "type": "scatterpolar"
           }
          ],
          "scatterpolargl": [
           {
            "marker": {
             "colorbar": {
              "outlinewidth": 0,
              "ticks": ""
             }
            },
            "type": "scatterpolargl"
           }
          ],
          "scatterternary": [
           {
            "marker": {
             "colorbar": {
              "outlinewidth": 0,
              "ticks": ""
             }
            },
            "type": "scatterternary"
           }
          ],
          "surface": [
           {
            "colorbar": {
             "outlinewidth": 0,
             "ticks": ""
            },
            "colorscale": [
             [
              0,
              "#0d0887"
             ],
             [
              0.1111111111111111,
              "#46039f"
             ],
             [
              0.2222222222222222,
              "#7201a8"
             ],
             [
              0.3333333333333333,
              "#9c179e"
             ],
             [
              0.4444444444444444,
              "#bd3786"
             ],
             [
              0.5555555555555556,
              "#d8576b"
             ],
             [
              0.6666666666666666,
              "#ed7953"
             ],
             [
              0.7777777777777778,
              "#fb9f3a"
             ],
             [
              0.8888888888888888,
              "#fdca26"
             ],
             [
              1,
              "#f0f921"
             ]
            ],
            "type": "surface"
           }
          ],
          "table": [
           {
            "cells": {
             "fill": {
              "color": "#EBF0F8"
             },
             "line": {
              "color": "white"
             }
            },
            "header": {
             "fill": {
              "color": "#C8D4E3"
             },
             "line": {
              "color": "white"
             }
            },
            "type": "table"
           }
          ]
         },
         "layout": {
          "annotationdefaults": {
           "arrowcolor": "#2a3f5f",
           "arrowhead": 0,
           "arrowwidth": 1
          },
          "autotypenumbers": "strict",
          "coloraxis": {
           "colorbar": {
            "outlinewidth": 0,
            "ticks": ""
           }
          },
          "colorscale": {
           "diverging": [
            [
             0,
             "#8e0152"
            ],
            [
             0.1,
             "#c51b7d"
            ],
            [
             0.2,
             "#de77ae"
            ],
            [
             0.3,
             "#f1b6da"
            ],
            [
             0.4,
             "#fde0ef"
            ],
            [
             0.5,
             "#f7f7f7"
            ],
            [
             0.6,
             "#e6f5d0"
            ],
            [
             0.7,
             "#b8e186"
            ],
            [
             0.8,
             "#7fbc41"
            ],
            [
             0.9,
             "#4d9221"
            ],
            [
             1,
             "#276419"
            ]
           ],
           "sequential": [
            [
             0,
             "#0d0887"
            ],
            [
             0.1111111111111111,
             "#46039f"
            ],
            [
             0.2222222222222222,
             "#7201a8"
            ],
            [
             0.3333333333333333,
             "#9c179e"
            ],
            [
             0.4444444444444444,
             "#bd3786"
            ],
            [
             0.5555555555555556,
             "#d8576b"
            ],
            [
             0.6666666666666666,
             "#ed7953"
            ],
            [
             0.7777777777777778,
             "#fb9f3a"
            ],
            [
             0.8888888888888888,
             "#fdca26"
            ],
            [
             1,
             "#f0f921"
            ]
           ],
           "sequentialminus": [
            [
             0,
             "#0d0887"
            ],
            [
             0.1111111111111111,
             "#46039f"
            ],
            [
             0.2222222222222222,
             "#7201a8"
            ],
            [
             0.3333333333333333,
             "#9c179e"
            ],
            [
             0.4444444444444444,
             "#bd3786"
            ],
            [
             0.5555555555555556,
             "#d8576b"
            ],
            [
             0.6666666666666666,
             "#ed7953"
            ],
            [
             0.7777777777777778,
             "#fb9f3a"
            ],
            [
             0.8888888888888888,
             "#fdca26"
            ],
            [
             1,
             "#f0f921"
            ]
           ]
          },
          "colorway": [
           "#636efa",
           "#EF553B",
           "#00cc96",
           "#ab63fa",
           "#FFA15A",
           "#19d3f3",
           "#FF6692",
           "#B6E880",
           "#FF97FF",
           "#FECB52"
          ],
          "font": {
           "color": "#2a3f5f"
          },
          "geo": {
           "bgcolor": "white",
           "lakecolor": "white",
           "landcolor": "#E5ECF6",
           "showlakes": true,
           "showland": true,
           "subunitcolor": "white"
          },
          "hoverlabel": {
           "align": "left"
          },
          "hovermode": "closest",
          "mapbox": {
           "style": "light"
          },
          "paper_bgcolor": "white",
          "plot_bgcolor": "#E5ECF6",
          "polar": {
           "angularaxis": {
            "gridcolor": "white",
            "linecolor": "white",
            "ticks": ""
           },
           "bgcolor": "#E5ECF6",
           "radialaxis": {
            "gridcolor": "white",
            "linecolor": "white",
            "ticks": ""
           }
          },
          "scene": {
           "xaxis": {
            "backgroundcolor": "#E5ECF6",
            "gridcolor": "white",
            "gridwidth": 2,
            "linecolor": "white",
            "showbackground": true,
            "ticks": "",
            "zerolinecolor": "white"
           },
           "yaxis": {
            "backgroundcolor": "#E5ECF6",
            "gridcolor": "white",
            "gridwidth": 2,
            "linecolor": "white",
            "showbackground": true,
            "ticks": "",
            "zerolinecolor": "white"
           },
           "zaxis": {
            "backgroundcolor": "#E5ECF6",
            "gridcolor": "white",
            "gridwidth": 2,
            "linecolor": "white",
            "showbackground": true,
            "ticks": "",
            "zerolinecolor": "white"
           }
          },
          "shapedefaults": {
           "line": {
            "color": "#2a3f5f"
           }
          },
          "ternary": {
           "aaxis": {
            "gridcolor": "white",
            "linecolor": "white",
            "ticks": ""
           },
           "baxis": {
            "gridcolor": "white",
            "linecolor": "white",
            "ticks": ""
           },
           "bgcolor": "#E5ECF6",
           "caxis": {
            "gridcolor": "white",
            "linecolor": "white",
            "ticks": ""
           }
          },
          "title": {
           "x": 0.05
          },
          "xaxis": {
           "automargin": true,
           "gridcolor": "white",
           "linecolor": "white",
           "ticks": "",
           "title": {
            "standoff": 15
           },
           "zerolinecolor": "white",
           "zerolinewidth": 2
          },
          "yaxis": {
           "automargin": true,
           "gridcolor": "white",
           "linecolor": "white",
           "ticks": "",
           "title": {
            "standoff": 15
           },
           "zerolinecolor": "white",
           "zerolinewidth": 2
          }
         }
        },
        "title": {
         "text": "Visualisasi Klaster dengan MDS (3D - Plotly)"
        },
        "width": 800
       }
      }
     },
     "metadata": {},
     "output_type": "display_data"
    }
   ],
   "source": [
    "# Create a DataFrame for 3D plotting\n",
    "df_plot = pd.DataFrame(gower_3d, columns=['Komponen 1', 'Komponen 2', 'Komponen 3'])\n",
    "df_plot['Klaster'] = cluster_labels.astype(str)  # supaya warnanya beda per klaster\n",
    "\n",
    "# 3D Scatter Plot using Plotly\n",
    "fig = px.scatter_3d(\n",
    "    df_plot,\n",
    "    x='Komponen 1',\n",
    "    y='Komponen 2',\n",
    "    z='Komponen 3',\n",
    "    color='Klaster',\n",
    "    title='Visualisasi Klaster dengan MDS (3D - Plotly)',\n",
    "    opacity=0.8,\n",
    "    width=800,\n",
    "    height=600\n",
    ")\n",
    "\n",
    "fig.show()\n"
   ]
  },
  {
   "cell_type": "code",
   "execution_count": null,
   "id": "e304b8f9",
   "metadata": {},
   "outputs": [
    {
     "data": {
      "text/html": [
       "<div>\n",
       "<style scoped>\n",
       "    .dataframe tbody tr th:only-of-type {\n",
       "        vertical-align: middle;\n",
       "    }\n",
       "\n",
       "    .dataframe tbody tr th {\n",
       "        vertical-align: top;\n",
       "    }\n",
       "\n",
       "    .dataframe thead th {\n",
       "        text-align: right;\n",
       "    }\n",
       "</style>\n",
       "<table border=\"1\" class=\"dataframe\">\n",
       "  <thead>\n",
       "    <tr style=\"text-align: right;\">\n",
       "      <th></th>\n",
       "      <th>amazon_standard_id</th>\n",
       "      <th>total_qty</th>\n",
       "      <th>avg_qty_per_order</th>\n",
       "      <th>total_sales</th>\n",
       "      <th>avg_sales_per_order</th>\n",
       "      <th>promo_used_ratio</th>\n",
       "      <th>freq_category</th>\n",
       "      <th>freq_size</th>\n",
       "      <th>freq_ship_state</th>\n",
       "      <th>last_order_date</th>\n",
       "      <th>first_order_date</th>\n",
       "      <th>total_transactions</th>\n",
       "      <th>recency_days</th>\n",
       "      <th>cluster</th>\n",
       "    </tr>\n",
       "  </thead>\n",
       "  <tbody>\n",
       "    <tr>\n",
       "      <th>0</th>\n",
       "      <td>B01LYC0N7Q</td>\n",
       "      <td>3</td>\n",
       "      <td>1.0</td>\n",
       "      <td>1230.0</td>\n",
       "      <td>410.000000</td>\n",
       "      <td>0.333333</td>\n",
       "      <td>kurta</td>\n",
       "      <td>XL</td>\n",
       "      <td>Delhi</td>\n",
       "      <td>2022-04-02</td>\n",
       "      <td>2022-06-25</td>\n",
       "      <td>3</td>\n",
       "      <td>88</td>\n",
       "      <td>3</td>\n",
       "    </tr>\n",
       "    <tr>\n",
       "      <th>1</th>\n",
       "      <td>B01LYC0NV1</td>\n",
       "      <td>10</td>\n",
       "      <td>1.0</td>\n",
       "      <td>2986.0</td>\n",
       "      <td>298.600000</td>\n",
       "      <td>0.700000</td>\n",
       "      <td>kurta</td>\n",
       "      <td>XL</td>\n",
       "      <td>Tamil Nadu</td>\n",
       "      <td>2022-04-06</td>\n",
       "      <td>2022-06-15</td>\n",
       "      <td>10</td>\n",
       "      <td>84</td>\n",
       "      <td>3</td>\n",
       "    </tr>\n",
       "    <tr>\n",
       "      <th>2</th>\n",
       "      <td>B01LZMXYSV</td>\n",
       "      <td>5</td>\n",
       "      <td>1.0</td>\n",
       "      <td>1499.0</td>\n",
       "      <td>299.800000</td>\n",
       "      <td>0.800000</td>\n",
       "      <td>kurta</td>\n",
       "      <td>S</td>\n",
       "      <td>Karnataka</td>\n",
       "      <td>2022-04-08</td>\n",
       "      <td>2022-06-24</td>\n",
       "      <td>5</td>\n",
       "      <td>82</td>\n",
       "      <td>3</td>\n",
       "    </tr>\n",
       "    <tr>\n",
       "      <th>3</th>\n",
       "      <td>B01LZYQ93J</td>\n",
       "      <td>4</td>\n",
       "      <td>1.0</td>\n",
       "      <td>1204.0</td>\n",
       "      <td>301.000000</td>\n",
       "      <td>0.750000</td>\n",
       "      <td>kurta</td>\n",
       "      <td>M</td>\n",
       "      <td>Tamil Nadu</td>\n",
       "      <td>2022-06-04</td>\n",
       "      <td>2022-06-23</td>\n",
       "      <td>4</td>\n",
       "      <td>25</td>\n",
       "      <td>3</td>\n",
       "    </tr>\n",
       "    <tr>\n",
       "      <th>4</th>\n",
       "      <td>B01M0LXTZE</td>\n",
       "      <td>7</td>\n",
       "      <td>1.0</td>\n",
       "      <td>2644.0</td>\n",
       "      <td>377.714286</td>\n",
       "      <td>0.857143</td>\n",
       "      <td>kurta</td>\n",
       "      <td>M</td>\n",
       "      <td>Karnataka</td>\n",
       "      <td>2022-04-14</td>\n",
       "      <td>2022-05-09</td>\n",
       "      <td>7</td>\n",
       "      <td>76</td>\n",
       "      <td>3</td>\n",
       "    </tr>\n",
       "    <tr>\n",
       "      <th>...</th>\n",
       "      <td>...</td>\n",
       "      <td>...</td>\n",
       "      <td>...</td>\n",
       "      <td>...</td>\n",
       "      <td>...</td>\n",
       "      <td>...</td>\n",
       "      <td>...</td>\n",
       "      <td>...</td>\n",
       "      <td>...</td>\n",
       "      <td>...</td>\n",
       "      <td>...</td>\n",
       "      <td>...</td>\n",
       "      <td>...</td>\n",
       "      <td>...</td>\n",
       "    </tr>\n",
       "    <tr>\n",
       "      <th>6542</th>\n",
       "      <td>B0B3X1PX3P</td>\n",
       "      <td>2</td>\n",
       "      <td>1.0</td>\n",
       "      <td>2476.0</td>\n",
       "      <td>1238.000000</td>\n",
       "      <td>1.000000</td>\n",
       "      <td>Set</td>\n",
       "      <td>M</td>\n",
       "      <td>Bihar</td>\n",
       "      <td>2022-06-24</td>\n",
       "      <td>2022-06-27</td>\n",
       "      <td>2</td>\n",
       "      <td>5</td>\n",
       "      <td>3</td>\n",
       "    </tr>\n",
       "    <tr>\n",
       "      <th>6543</th>\n",
       "      <td>B0B3X1ZSZP</td>\n",
       "      <td>3</td>\n",
       "      <td>1.5</td>\n",
       "      <td>2313.0</td>\n",
       "      <td>1156.500000</td>\n",
       "      <td>1.000000</td>\n",
       "      <td>Set</td>\n",
       "      <td>3XL</td>\n",
       "      <td>Andhra Pradesh</td>\n",
       "      <td>2022-06-24</td>\n",
       "      <td>2022-06-26</td>\n",
       "      <td>2</td>\n",
       "      <td>5</td>\n",
       "      <td>2</td>\n",
       "    </tr>\n",
       "    <tr>\n",
       "      <th>6544</th>\n",
       "      <td>B0B3X2392D</td>\n",
       "      <td>1</td>\n",
       "      <td>1.0</td>\n",
       "      <td>1238.0</td>\n",
       "      <td>1238.000000</td>\n",
       "      <td>1.000000</td>\n",
       "      <td>Set</td>\n",
       "      <td>XXL</td>\n",
       "      <td>Assam</td>\n",
       "      <td>2022-06-24</td>\n",
       "      <td>2022-06-24</td>\n",
       "      <td>1</td>\n",
       "      <td>5</td>\n",
       "      <td>3</td>\n",
       "    </tr>\n",
       "    <tr>\n",
       "      <th>6545</th>\n",
       "      <td>B0B3X2WPTW</td>\n",
       "      <td>2</td>\n",
       "      <td>1.0</td>\n",
       "      <td>2485.0</td>\n",
       "      <td>1242.500000</td>\n",
       "      <td>1.000000</td>\n",
       "      <td>Set</td>\n",
       "      <td>XXL</td>\n",
       "      <td>Jharkhand</td>\n",
       "      <td>2022-06-23</td>\n",
       "      <td>2022-06-25</td>\n",
       "      <td>2</td>\n",
       "      <td>6</td>\n",
       "      <td>3</td>\n",
       "    </tr>\n",
       "    <tr>\n",
       "      <th>6546</th>\n",
       "      <td>B0B3X45961</td>\n",
       "      <td>1</td>\n",
       "      <td>1.0</td>\n",
       "      <td>801.0</td>\n",
       "      <td>801.000000</td>\n",
       "      <td>1.000000</td>\n",
       "      <td>kurta</td>\n",
       "      <td>M</td>\n",
       "      <td>Karnataka</td>\n",
       "      <td>2022-06-23</td>\n",
       "      <td>2022-06-23</td>\n",
       "      <td>1</td>\n",
       "      <td>6</td>\n",
       "      <td>3</td>\n",
       "    </tr>\n",
       "  </tbody>\n",
       "</table>\n",
       "<p>6547 rows × 14 columns</p>\n",
       "</div>"
      ],
      "text/plain": [
       "     amazon_standard_id  total_qty  avg_qty_per_order  total_sales  \\\n",
       "0            B01LYC0N7Q          3                1.0       1230.0   \n",
       "1            B01LYC0NV1         10                1.0       2986.0   \n",
       "2            B01LZMXYSV          5                1.0       1499.0   \n",
       "3            B01LZYQ93J          4                1.0       1204.0   \n",
       "4            B01M0LXTZE          7                1.0       2644.0   \n",
       "...                 ...        ...                ...          ...   \n",
       "6542         B0B3X1PX3P          2                1.0       2476.0   \n",
       "6543         B0B3X1ZSZP          3                1.5       2313.0   \n",
       "6544         B0B3X2392D          1                1.0       1238.0   \n",
       "6545         B0B3X2WPTW          2                1.0       2485.0   \n",
       "6546         B0B3X45961          1                1.0        801.0   \n",
       "\n",
       "      avg_sales_per_order  promo_used_ratio freq_category freq_size  \\\n",
       "0              410.000000          0.333333         kurta        XL   \n",
       "1              298.600000          0.700000         kurta        XL   \n",
       "2              299.800000          0.800000         kurta         S   \n",
       "3              301.000000          0.750000         kurta         M   \n",
       "4              377.714286          0.857143         kurta         M   \n",
       "...                   ...               ...           ...       ...   \n",
       "6542          1238.000000          1.000000           Set         M   \n",
       "6543          1156.500000          1.000000           Set       3XL   \n",
       "6544          1238.000000          1.000000           Set       XXL   \n",
       "6545          1242.500000          1.000000           Set       XXL   \n",
       "6546           801.000000          1.000000         kurta         M   \n",
       "\n",
       "     freq_ship_state last_order_date first_order_date  total_transactions  \\\n",
       "0              Delhi      2022-04-02       2022-06-25                   3   \n",
       "1         Tamil Nadu      2022-04-06       2022-06-15                  10   \n",
       "2          Karnataka      2022-04-08       2022-06-24                   5   \n",
       "3         Tamil Nadu      2022-06-04       2022-06-23                   4   \n",
       "4          Karnataka      2022-04-14       2022-05-09                   7   \n",
       "...              ...             ...              ...                 ...   \n",
       "6542           Bihar      2022-06-24       2022-06-27                   2   \n",
       "6543  Andhra Pradesh      2022-06-24       2022-06-26                   2   \n",
       "6544           Assam      2022-06-24       2022-06-24                   1   \n",
       "6545       Jharkhand      2022-06-23       2022-06-25                   2   \n",
       "6546       Karnataka      2022-06-23       2022-06-23                   1   \n",
       "\n",
       "      recency_days  cluster  \n",
       "0               88        3  \n",
       "1               84        3  \n",
       "2               82        3  \n",
       "3               25        3  \n",
       "4               76        3  \n",
       "...            ...      ...  \n",
       "6542             5        3  \n",
       "6543             5        2  \n",
       "6544             5        3  \n",
       "6545             6        3  \n",
       "6546             6        3  \n",
       "\n",
       "[6547 rows x 14 columns]"
      ]
     },
     "execution_count": 28,
     "metadata": {},
     "output_type": "execute_result"
    }
   ],
   "source": [
    "# Add the cluster labels as a new column to the agg_df DataFrame\n",
    "agg_df['cluster'] = cluster_labels\n",
    "agg_df"
   ]
  },
  {
   "cell_type": "code",
   "execution_count": 30,
   "id": "d7b45c91",
   "metadata": {},
   "outputs": [
    {
     "data": {
      "text/html": [
       "<div>\n",
       "<style scoped>\n",
       "    .dataframe tbody tr th:only-of-type {\n",
       "        vertical-align: middle;\n",
       "    }\n",
       "\n",
       "    .dataframe tbody tr th {\n",
       "        vertical-align: top;\n",
       "    }\n",
       "\n",
       "    .dataframe thead th {\n",
       "        text-align: right;\n",
       "    }\n",
       "</style>\n",
       "<table border=\"1\" class=\"dataframe\">\n",
       "  <thead>\n",
       "    <tr style=\"text-align: right;\">\n",
       "      <th></th>\n",
       "      <th>amazon_standard_id</th>\n",
       "      <th>total_qty</th>\n",
       "      <th>avg_qty_per_order</th>\n",
       "      <th>total_sales</th>\n",
       "      <th>avg_sales_per_order</th>\n",
       "      <th>promo_used_ratio</th>\n",
       "      <th>freq_category</th>\n",
       "      <th>freq_size</th>\n",
       "      <th>freq_ship_state</th>\n",
       "      <th>last_order_date</th>\n",
       "      <th>first_order_date</th>\n",
       "      <th>total_transactions</th>\n",
       "      <th>recency_days</th>\n",
       "      <th>cluster</th>\n",
       "    </tr>\n",
       "  </thead>\n",
       "  <tbody>\n",
       "    <tr>\n",
       "      <th>0</th>\n",
       "      <td>B07GRSF1FC</td>\n",
       "      <td>113</td>\n",
       "      <td>1.027273</td>\n",
       "      <td>41927.0</td>\n",
       "      <td>381.154545</td>\n",
       "      <td>0.490909</td>\n",
       "      <td>kurta</td>\n",
       "      <td>M</td>\n",
       "      <td>Maharashtra</td>\n",
       "      <td>2022-04-02</td>\n",
       "      <td>2022-06-28</td>\n",
       "      <td>110</td>\n",
       "      <td>88</td>\n",
       "      <td>1</td>\n",
       "    </tr>\n",
       "    <tr>\n",
       "      <th>1</th>\n",
       "      <td>B07H7DZXJ5</td>\n",
       "      <td>90</td>\n",
       "      <td>1.011236</td>\n",
       "      <td>46537.0</td>\n",
       "      <td>522.887640</td>\n",
       "      <td>0.831461</td>\n",
       "      <td>kurta</td>\n",
       "      <td>XXL</td>\n",
       "      <td>Tamil Nadu</td>\n",
       "      <td>2022-03-31</td>\n",
       "      <td>2022-06-23</td>\n",
       "      <td>89</td>\n",
       "      <td>90</td>\n",
       "      <td>1</td>\n",
       "    </tr>\n",
       "    <tr>\n",
       "      <th>2</th>\n",
       "      <td>B07R41RZV7</td>\n",
       "      <td>114</td>\n",
       "      <td>1.008850</td>\n",
       "      <td>52196.0</td>\n",
       "      <td>461.911504</td>\n",
       "      <td>0.336283</td>\n",
       "      <td>kurta</td>\n",
       "      <td>XXL</td>\n",
       "      <td>Tamil Nadu</td>\n",
       "      <td>2022-04-01</td>\n",
       "      <td>2022-06-26</td>\n",
       "      <td>113</td>\n",
       "      <td>89</td>\n",
       "      <td>1</td>\n",
       "    </tr>\n",
       "    <tr>\n",
       "      <th>3</th>\n",
       "      <td>B07R4XJNW3</td>\n",
       "      <td>188</td>\n",
       "      <td>1.016216</td>\n",
       "      <td>84816.0</td>\n",
       "      <td>458.464865</td>\n",
       "      <td>0.400000</td>\n",
       "      <td>kurta</td>\n",
       "      <td>XL</td>\n",
       "      <td>Tamil Nadu</td>\n",
       "      <td>2022-03-31</td>\n",
       "      <td>2022-06-24</td>\n",
       "      <td>185</td>\n",
       "      <td>90</td>\n",
       "      <td>1</td>\n",
       "    </tr>\n",
       "    <tr>\n",
       "      <th>4</th>\n",
       "      <td>B07R52578F</td>\n",
       "      <td>131</td>\n",
       "      <td>1.000000</td>\n",
       "      <td>60308.0</td>\n",
       "      <td>460.366412</td>\n",
       "      <td>0.358779</td>\n",
       "      <td>kurta</td>\n",
       "      <td>M</td>\n",
       "      <td>Tamil Nadu</td>\n",
       "      <td>2022-04-05</td>\n",
       "      <td>2022-06-28</td>\n",
       "      <td>131</td>\n",
       "      <td>85</td>\n",
       "      <td>1</td>\n",
       "    </tr>\n",
       "    <tr>\n",
       "      <th>...</th>\n",
       "      <td>...</td>\n",
       "      <td>...</td>\n",
       "      <td>...</td>\n",
       "      <td>...</td>\n",
       "      <td>...</td>\n",
       "      <td>...</td>\n",
       "      <td>...</td>\n",
       "      <td>...</td>\n",
       "      <td>...</td>\n",
       "      <td>...</td>\n",
       "      <td>...</td>\n",
       "      <td>...</td>\n",
       "      <td>...</td>\n",
       "      <td>...</td>\n",
       "    </tr>\n",
       "    <tr>\n",
       "      <th>123</th>\n",
       "      <td>B09SDYQ3WG</td>\n",
       "      <td>179</td>\n",
       "      <td>1.000000</td>\n",
       "      <td>135755.0</td>\n",
       "      <td>758.407821</td>\n",
       "      <td>0.927374</td>\n",
       "      <td>Western Dress</td>\n",
       "      <td>S</td>\n",
       "      <td>Karnataka</td>\n",
       "      <td>2022-04-13</td>\n",
       "      <td>2022-06-29</td>\n",
       "      <td>179</td>\n",
       "      <td>77</td>\n",
       "      <td>1</td>\n",
       "    </tr>\n",
       "    <tr>\n",
       "      <th>124</th>\n",
       "      <td>B09SDZ4FH9</td>\n",
       "      <td>100</td>\n",
       "      <td>1.000000</td>\n",
       "      <td>74228.0</td>\n",
       "      <td>742.280000</td>\n",
       "      <td>0.730000</td>\n",
       "      <td>kurta</td>\n",
       "      <td>M</td>\n",
       "      <td>Telangana</td>\n",
       "      <td>2022-04-01</td>\n",
       "      <td>2022-06-24</td>\n",
       "      <td>100</td>\n",
       "      <td>89</td>\n",
       "      <td>1</td>\n",
       "    </tr>\n",
       "    <tr>\n",
       "      <th>125</th>\n",
       "      <td>B09SDZ64HF</td>\n",
       "      <td>54</td>\n",
       "      <td>1.018868</td>\n",
       "      <td>40334.0</td>\n",
       "      <td>761.018868</td>\n",
       "      <td>0.867925</td>\n",
       "      <td>Western Dress</td>\n",
       "      <td>3XL</td>\n",
       "      <td>Maharashtra</td>\n",
       "      <td>2022-04-01</td>\n",
       "      <td>2022-06-25</td>\n",
       "      <td>53</td>\n",
       "      <td>89</td>\n",
       "      <td>1</td>\n",
       "    </tr>\n",
       "    <tr>\n",
       "      <th>126</th>\n",
       "      <td>B09TH4H7T2</td>\n",
       "      <td>71</td>\n",
       "      <td>1.000000</td>\n",
       "      <td>52073.0</td>\n",
       "      <td>733.422535</td>\n",
       "      <td>0.929577</td>\n",
       "      <td>Western Dress</td>\n",
       "      <td>S</td>\n",
       "      <td>Karnataka</td>\n",
       "      <td>2022-05-21</td>\n",
       "      <td>2022-06-25</td>\n",
       "      <td>71</td>\n",
       "      <td>39</td>\n",
       "      <td>1</td>\n",
       "    </tr>\n",
       "    <tr>\n",
       "      <th>127</th>\n",
       "      <td>B09TH73PT5</td>\n",
       "      <td>97</td>\n",
       "      <td>1.000000</td>\n",
       "      <td>75293.0</td>\n",
       "      <td>776.216495</td>\n",
       "      <td>0.958763</td>\n",
       "      <td>Western Dress</td>\n",
       "      <td>M</td>\n",
       "      <td>Karnataka</td>\n",
       "      <td>2022-06-03</td>\n",
       "      <td>2022-06-28</td>\n",
       "      <td>97</td>\n",
       "      <td>26</td>\n",
       "      <td>1</td>\n",
       "    </tr>\n",
       "  </tbody>\n",
       "</table>\n",
       "<p>128 rows × 14 columns</p>\n",
       "</div>"
      ],
      "text/plain": [
       "    amazon_standard_id  total_qty  avg_qty_per_order  total_sales  \\\n",
       "0           B07GRSF1FC        113           1.027273      41927.0   \n",
       "1           B07H7DZXJ5         90           1.011236      46537.0   \n",
       "2           B07R41RZV7        114           1.008850      52196.0   \n",
       "3           B07R4XJNW3        188           1.016216      84816.0   \n",
       "4           B07R52578F        131           1.000000      60308.0   \n",
       "..                 ...        ...                ...          ...   \n",
       "123         B09SDYQ3WG        179           1.000000     135755.0   \n",
       "124         B09SDZ4FH9        100           1.000000      74228.0   \n",
       "125         B09SDZ64HF         54           1.018868      40334.0   \n",
       "126         B09TH4H7T2         71           1.000000      52073.0   \n",
       "127         B09TH73PT5         97           1.000000      75293.0   \n",
       "\n",
       "     avg_sales_per_order  promo_used_ratio  freq_category freq_size  \\\n",
       "0             381.154545          0.490909          kurta         M   \n",
       "1             522.887640          0.831461          kurta       XXL   \n",
       "2             461.911504          0.336283          kurta       XXL   \n",
       "3             458.464865          0.400000          kurta        XL   \n",
       "4             460.366412          0.358779          kurta         M   \n",
       "..                   ...               ...            ...       ...   \n",
       "123           758.407821          0.927374  Western Dress         S   \n",
       "124           742.280000          0.730000          kurta         M   \n",
       "125           761.018868          0.867925  Western Dress       3XL   \n",
       "126           733.422535          0.929577  Western Dress         S   \n",
       "127           776.216495          0.958763  Western Dress         M   \n",
       "\n",
       "    freq_ship_state last_order_date first_order_date  total_transactions  \\\n",
       "0       Maharashtra      2022-04-02       2022-06-28                 110   \n",
       "1        Tamil Nadu      2022-03-31       2022-06-23                  89   \n",
       "2        Tamil Nadu      2022-04-01       2022-06-26                 113   \n",
       "3        Tamil Nadu      2022-03-31       2022-06-24                 185   \n",
       "4        Tamil Nadu      2022-04-05       2022-06-28                 131   \n",
       "..              ...             ...              ...                 ...   \n",
       "123       Karnataka      2022-04-13       2022-06-29                 179   \n",
       "124       Telangana      2022-04-01       2022-06-24                 100   \n",
       "125     Maharashtra      2022-04-01       2022-06-25                  53   \n",
       "126       Karnataka      2022-05-21       2022-06-25                  71   \n",
       "127       Karnataka      2022-06-03       2022-06-28                  97   \n",
       "\n",
       "     recency_days  cluster  \n",
       "0              88        1  \n",
       "1              90        1  \n",
       "2              89        1  \n",
       "3              90        1  \n",
       "4              85        1  \n",
       "..            ...      ...  \n",
       "123            77        1  \n",
       "124            89        1  \n",
       "125            89        1  \n",
       "126            39        1  \n",
       "127            26        1  \n",
       "\n",
       "[128 rows x 14 columns]"
      ]
     },
     "execution_count": 30,
     "metadata": {},
     "output_type": "execute_result"
    }
   ],
   "source": [
    "cluster1 = agg_df[agg_df['cluster']==1].reset_index(drop=True)\n",
    "cluster1"
   ]
  },
  {
   "cell_type": "code",
   "execution_count": 31,
   "id": "0cde378e",
   "metadata": {},
   "outputs": [
    {
     "data": {
      "text/html": [
       "<div>\n",
       "<style scoped>\n",
       "    .dataframe tbody tr th:only-of-type {\n",
       "        vertical-align: middle;\n",
       "    }\n",
       "\n",
       "    .dataframe tbody tr th {\n",
       "        vertical-align: top;\n",
       "    }\n",
       "\n",
       "    .dataframe thead th {\n",
       "        text-align: right;\n",
       "    }\n",
       "</style>\n",
       "<table border=\"1\" class=\"dataframe\">\n",
       "  <thead>\n",
       "    <tr style=\"text-align: right;\">\n",
       "      <th></th>\n",
       "      <th>count</th>\n",
       "      <th>mean</th>\n",
       "      <th>std</th>\n",
       "      <th>min</th>\n",
       "      <th>25%</th>\n",
       "      <th>50%</th>\n",
       "      <th>75%</th>\n",
       "      <th>max</th>\n",
       "    </tr>\n",
       "  </thead>\n",
       "  <tbody>\n",
       "    <tr>\n",
       "      <th>total_qty</th>\n",
       "      <td>128.0</td>\n",
       "      <td>135.828125</td>\n",
       "      <td>66.743971</td>\n",
       "      <td>48.000000</td>\n",
       "      <td>96.750000</td>\n",
       "      <td>122.000000</td>\n",
       "      <td>156.250000</td>\n",
       "      <td>427.000000</td>\n",
       "    </tr>\n",
       "    <tr>\n",
       "      <th>avg_qty_per_order</th>\n",
       "      <td>128.0</td>\n",
       "      <td>1.004329</td>\n",
       "      <td>0.007960</td>\n",
       "      <td>1.000000</td>\n",
       "      <td>1.000000</td>\n",
       "      <td>1.000000</td>\n",
       "      <td>1.006879</td>\n",
       "      <td>1.053691</td>\n",
       "    </tr>\n",
       "    <tr>\n",
       "      <th>total_sales</th>\n",
       "      <td>128.0</td>\n",
       "      <td>91943.062500</td>\n",
       "      <td>60088.645275</td>\n",
       "      <td>26781.000000</td>\n",
       "      <td>55258.750000</td>\n",
       "      <td>78154.000000</td>\n",
       "      <td>103159.000000</td>\n",
       "      <td>430948.000000</td>\n",
       "    </tr>\n",
       "    <tr>\n",
       "      <th>avg_sales_per_order</th>\n",
       "      <td>128.0</td>\n",
       "      <td>685.838029</td>\n",
       "      <td>216.991865</td>\n",
       "      <td>376.980132</td>\n",
       "      <td>494.697654</td>\n",
       "      <td>660.735979</td>\n",
       "      <td>816.943534</td>\n",
       "      <td>1454.729730</td>\n",
       "    </tr>\n",
       "    <tr>\n",
       "      <th>promo_used_ratio</th>\n",
       "      <td>128.0</td>\n",
       "      <td>0.594324</td>\n",
       "      <td>0.170930</td>\n",
       "      <td>0.269841</td>\n",
       "      <td>0.474889</td>\n",
       "      <td>0.542262</td>\n",
       "      <td>0.717793</td>\n",
       "      <td>0.958763</td>\n",
       "    </tr>\n",
       "    <tr>\n",
       "      <th>total_transactions</th>\n",
       "      <td>128.0</td>\n",
       "      <td>135.250000</td>\n",
       "      <td>66.526888</td>\n",
       "      <td>48.000000</td>\n",
       "      <td>96.750000</td>\n",
       "      <td>121.000000</td>\n",
       "      <td>154.250000</td>\n",
       "      <td>427.000000</td>\n",
       "    </tr>\n",
       "    <tr>\n",
       "      <th>recency_days</th>\n",
       "      <td>128.0</td>\n",
       "      <td>86.343750</td>\n",
       "      <td>8.723610</td>\n",
       "      <td>26.000000</td>\n",
       "      <td>87.000000</td>\n",
       "      <td>89.000000</td>\n",
       "      <td>89.000000</td>\n",
       "      <td>90.000000</td>\n",
       "    </tr>\n",
       "    <tr>\n",
       "      <th>cluster</th>\n",
       "      <td>128.0</td>\n",
       "      <td>1.000000</td>\n",
       "      <td>0.000000</td>\n",
       "      <td>1.000000</td>\n",
       "      <td>1.000000</td>\n",
       "      <td>1.000000</td>\n",
       "      <td>1.000000</td>\n",
       "      <td>1.000000</td>\n",
       "    </tr>\n",
       "  </tbody>\n",
       "</table>\n",
       "</div>"
      ],
      "text/plain": [
       "                     count          mean           std           min  \\\n",
       "total_qty            128.0    135.828125     66.743971     48.000000   \n",
       "avg_qty_per_order    128.0      1.004329      0.007960      1.000000   \n",
       "total_sales          128.0  91943.062500  60088.645275  26781.000000   \n",
       "avg_sales_per_order  128.0    685.838029    216.991865    376.980132   \n",
       "promo_used_ratio     128.0      0.594324      0.170930      0.269841   \n",
       "total_transactions   128.0    135.250000     66.526888     48.000000   \n",
       "recency_days         128.0     86.343750      8.723610     26.000000   \n",
       "cluster              128.0      1.000000      0.000000      1.000000   \n",
       "\n",
       "                              25%           50%            75%            max  \n",
       "total_qty               96.750000    122.000000     156.250000     427.000000  \n",
       "avg_qty_per_order        1.000000      1.000000       1.006879       1.053691  \n",
       "total_sales          55258.750000  78154.000000  103159.000000  430948.000000  \n",
       "avg_sales_per_order    494.697654    660.735979     816.943534    1454.729730  \n",
       "promo_used_ratio         0.474889      0.542262       0.717793       0.958763  \n",
       "total_transactions      96.750000    121.000000     154.250000     427.000000  \n",
       "recency_days            87.000000     89.000000      89.000000      90.000000  \n",
       "cluster                  1.000000      1.000000       1.000000       1.000000  "
      ]
     },
     "execution_count": 31,
     "metadata": {},
     "output_type": "execute_result"
    }
   ],
   "source": [
    "cluster1.describe().T"
   ]
  },
  {
   "cell_type": "code",
   "execution_count": 32,
   "id": "a5b33994",
   "metadata": {},
   "outputs": [
    {
     "data": {
      "text/html": [
       "<div>\n",
       "<style scoped>\n",
       "    .dataframe tbody tr th:only-of-type {\n",
       "        vertical-align: middle;\n",
       "    }\n",
       "\n",
       "    .dataframe tbody tr th {\n",
       "        vertical-align: top;\n",
       "    }\n",
       "\n",
       "    .dataframe thead th {\n",
       "        text-align: right;\n",
       "    }\n",
       "</style>\n",
       "<table border=\"1\" class=\"dataframe\">\n",
       "  <thead>\n",
       "    <tr style=\"text-align: right;\">\n",
       "      <th></th>\n",
       "      <th>amazon_standard_id</th>\n",
       "      <th>total_qty</th>\n",
       "      <th>avg_qty_per_order</th>\n",
       "      <th>total_sales</th>\n",
       "      <th>avg_sales_per_order</th>\n",
       "      <th>promo_used_ratio</th>\n",
       "      <th>freq_category</th>\n",
       "      <th>freq_size</th>\n",
       "      <th>freq_ship_state</th>\n",
       "      <th>last_order_date</th>\n",
       "      <th>first_order_date</th>\n",
       "      <th>total_transactions</th>\n",
       "      <th>recency_days</th>\n",
       "      <th>cluster</th>\n",
       "    </tr>\n",
       "  </thead>\n",
       "  <tbody>\n",
       "    <tr>\n",
       "      <th>0</th>\n",
       "      <td>B077Z2H3PS</td>\n",
       "      <td>2</td>\n",
       "      <td>2.000000</td>\n",
       "      <td>586.0</td>\n",
       "      <td>586.000000</td>\n",
       "      <td>0.000000</td>\n",
       "      <td>Blouse</td>\n",
       "      <td>Free</td>\n",
       "      <td>Gujarat</td>\n",
       "      <td>2022-04-28</td>\n",
       "      <td>2022-04-28</td>\n",
       "      <td>1</td>\n",
       "      <td>62</td>\n",
       "      <td>2</td>\n",
       "    </tr>\n",
       "    <tr>\n",
       "      <th>1</th>\n",
       "      <td>B077Z7WDXN</td>\n",
       "      <td>16</td>\n",
       "      <td>8.000000</td>\n",
       "      <td>975.0</td>\n",
       "      <td>487.500000</td>\n",
       "      <td>0.500000</td>\n",
       "      <td>Blouse</td>\n",
       "      <td>Free</td>\n",
       "      <td>Gujarat</td>\n",
       "      <td>2022-04-17</td>\n",
       "      <td>2022-04-30</td>\n",
       "      <td>2</td>\n",
       "      <td>73</td>\n",
       "      <td>2</td>\n",
       "    </tr>\n",
       "    <tr>\n",
       "      <th>2</th>\n",
       "      <td>B077Z7WHCR</td>\n",
       "      <td>18</td>\n",
       "      <td>1.125000</td>\n",
       "      <td>6751.0</td>\n",
       "      <td>421.937500</td>\n",
       "      <td>0.250000</td>\n",
       "      <td>Blouse</td>\n",
       "      <td>Free</td>\n",
       "      <td>Telangana</td>\n",
       "      <td>2022-04-01</td>\n",
       "      <td>2022-06-28</td>\n",
       "      <td>16</td>\n",
       "      <td>89</td>\n",
       "      <td>2</td>\n",
       "    </tr>\n",
       "    <tr>\n",
       "      <th>3</th>\n",
       "      <td>B07Q2M4W2P</td>\n",
       "      <td>25</td>\n",
       "      <td>1.086957</td>\n",
       "      <td>14851.0</td>\n",
       "      <td>645.695652</td>\n",
       "      <td>0.739130</td>\n",
       "      <td>Set</td>\n",
       "      <td>S</td>\n",
       "      <td>Karnataka</td>\n",
       "      <td>2022-03-31</td>\n",
       "      <td>2022-06-29</td>\n",
       "      <td>23</td>\n",
       "      <td>90</td>\n",
       "      <td>2</td>\n",
       "    </tr>\n",
       "    <tr>\n",
       "      <th>4</th>\n",
       "      <td>B07Q2RTSFB</td>\n",
       "      <td>27</td>\n",
       "      <td>1.038462</td>\n",
       "      <td>15684.0</td>\n",
       "      <td>603.230769</td>\n",
       "      <td>0.730769</td>\n",
       "      <td>Set</td>\n",
       "      <td>M</td>\n",
       "      <td>Telangana</td>\n",
       "      <td>2022-04-01</td>\n",
       "      <td>2022-06-18</td>\n",
       "      <td>26</td>\n",
       "      <td>89</td>\n",
       "      <td>2</td>\n",
       "    </tr>\n",
       "    <tr>\n",
       "      <th>...</th>\n",
       "      <td>...</td>\n",
       "      <td>...</td>\n",
       "      <td>...</td>\n",
       "      <td>...</td>\n",
       "      <td>...</td>\n",
       "      <td>...</td>\n",
       "      <td>...</td>\n",
       "      <td>...</td>\n",
       "      <td>...</td>\n",
       "      <td>...</td>\n",
       "      <td>...</td>\n",
       "      <td>...</td>\n",
       "      <td>...</td>\n",
       "      <td>...</td>\n",
       "    </tr>\n",
       "    <tr>\n",
       "      <th>211</th>\n",
       "      <td>B09TH6DNNN</td>\n",
       "      <td>29</td>\n",
       "      <td>1.000000</td>\n",
       "      <td>29592.0</td>\n",
       "      <td>1020.413793</td>\n",
       "      <td>0.724138</td>\n",
       "      <td>Set</td>\n",
       "      <td>M</td>\n",
       "      <td>Uttar Pradesh</td>\n",
       "      <td>2022-04-01</td>\n",
       "      <td>2022-06-17</td>\n",
       "      <td>29</td>\n",
       "      <td>89</td>\n",
       "      <td>2</td>\n",
       "    </tr>\n",
       "    <tr>\n",
       "      <th>212</th>\n",
       "      <td>B09TH9HS5R</td>\n",
       "      <td>20</td>\n",
       "      <td>1.052632</td>\n",
       "      <td>23907.0</td>\n",
       "      <td>1258.263158</td>\n",
       "      <td>0.526316</td>\n",
       "      <td>Set</td>\n",
       "      <td>XS</td>\n",
       "      <td>Uttar Pradesh</td>\n",
       "      <td>2022-04-03</td>\n",
       "      <td>2022-06-25</td>\n",
       "      <td>19</td>\n",
       "      <td>87</td>\n",
       "      <td>2</td>\n",
       "    </tr>\n",
       "    <tr>\n",
       "      <th>213</th>\n",
       "      <td>B09VC5Z5Z7</td>\n",
       "      <td>20</td>\n",
       "      <td>1.000000</td>\n",
       "      <td>20049.0</td>\n",
       "      <td>1002.450000</td>\n",
       "      <td>0.750000</td>\n",
       "      <td>Set</td>\n",
       "      <td>3XL</td>\n",
       "      <td>Haryana</td>\n",
       "      <td>2022-04-02</td>\n",
       "      <td>2022-06-25</td>\n",
       "      <td>20</td>\n",
       "      <td>88</td>\n",
       "      <td>2</td>\n",
       "    </tr>\n",
       "    <tr>\n",
       "      <th>214</th>\n",
       "      <td>B09YNY91G5</td>\n",
       "      <td>17</td>\n",
       "      <td>1.000000</td>\n",
       "      <td>24647.0</td>\n",
       "      <td>1449.823529</td>\n",
       "      <td>0.647059</td>\n",
       "      <td>Set</td>\n",
       "      <td>3XL</td>\n",
       "      <td>Telangana</td>\n",
       "      <td>2022-04-30</td>\n",
       "      <td>2022-06-23</td>\n",
       "      <td>17</td>\n",
       "      <td>60</td>\n",
       "      <td>2</td>\n",
       "    </tr>\n",
       "    <tr>\n",
       "      <th>215</th>\n",
       "      <td>B0B3X1ZSZP</td>\n",
       "      <td>3</td>\n",
       "      <td>1.500000</td>\n",
       "      <td>2313.0</td>\n",
       "      <td>1156.500000</td>\n",
       "      <td>1.000000</td>\n",
       "      <td>Set</td>\n",
       "      <td>3XL</td>\n",
       "      <td>Andhra Pradesh</td>\n",
       "      <td>2022-06-24</td>\n",
       "      <td>2022-06-26</td>\n",
       "      <td>2</td>\n",
       "      <td>5</td>\n",
       "      <td>2</td>\n",
       "    </tr>\n",
       "  </tbody>\n",
       "</table>\n",
       "<p>216 rows × 14 columns</p>\n",
       "</div>"
      ],
      "text/plain": [
       "    amazon_standard_id  total_qty  avg_qty_per_order  total_sales  \\\n",
       "0           B077Z2H3PS          2           2.000000        586.0   \n",
       "1           B077Z7WDXN         16           8.000000        975.0   \n",
       "2           B077Z7WHCR         18           1.125000       6751.0   \n",
       "3           B07Q2M4W2P         25           1.086957      14851.0   \n",
       "4           B07Q2RTSFB         27           1.038462      15684.0   \n",
       "..                 ...        ...                ...          ...   \n",
       "211         B09TH6DNNN         29           1.000000      29592.0   \n",
       "212         B09TH9HS5R         20           1.052632      23907.0   \n",
       "213         B09VC5Z5Z7         20           1.000000      20049.0   \n",
       "214         B09YNY91G5         17           1.000000      24647.0   \n",
       "215         B0B3X1ZSZP          3           1.500000       2313.0   \n",
       "\n",
       "     avg_sales_per_order  promo_used_ratio freq_category freq_size  \\\n",
       "0             586.000000          0.000000        Blouse      Free   \n",
       "1             487.500000          0.500000        Blouse      Free   \n",
       "2             421.937500          0.250000        Blouse      Free   \n",
       "3             645.695652          0.739130           Set         S   \n",
       "4             603.230769          0.730769           Set         M   \n",
       "..                   ...               ...           ...       ...   \n",
       "211          1020.413793          0.724138           Set         M   \n",
       "212          1258.263158          0.526316           Set        XS   \n",
       "213          1002.450000          0.750000           Set       3XL   \n",
       "214          1449.823529          0.647059           Set       3XL   \n",
       "215          1156.500000          1.000000           Set       3XL   \n",
       "\n",
       "    freq_ship_state last_order_date first_order_date  total_transactions  \\\n",
       "0           Gujarat      2022-04-28       2022-04-28                   1   \n",
       "1           Gujarat      2022-04-17       2022-04-30                   2   \n",
       "2         Telangana      2022-04-01       2022-06-28                  16   \n",
       "3         Karnataka      2022-03-31       2022-06-29                  23   \n",
       "4         Telangana      2022-04-01       2022-06-18                  26   \n",
       "..              ...             ...              ...                 ...   \n",
       "211   Uttar Pradesh      2022-04-01       2022-06-17                  29   \n",
       "212   Uttar Pradesh      2022-04-03       2022-06-25                  19   \n",
       "213         Haryana      2022-04-02       2022-06-25                  20   \n",
       "214       Telangana      2022-04-30       2022-06-23                  17   \n",
       "215  Andhra Pradesh      2022-06-24       2022-06-26                   2   \n",
       "\n",
       "     recency_days  cluster  \n",
       "0              62        2  \n",
       "1              73        2  \n",
       "2              89        2  \n",
       "3              90        2  \n",
       "4              89        2  \n",
       "..            ...      ...  \n",
       "211            89        2  \n",
       "212            87        2  \n",
       "213            88        2  \n",
       "214            60        2  \n",
       "215             5        2  \n",
       "\n",
       "[216 rows x 14 columns]"
      ]
     },
     "execution_count": 32,
     "metadata": {},
     "output_type": "execute_result"
    }
   ],
   "source": [
    "cluster2 = agg_df[agg_df['cluster']==2].reset_index(drop=True)\n",
    "cluster2"
   ]
  },
  {
   "cell_type": "code",
   "execution_count": 33,
   "id": "2b85cd2c",
   "metadata": {},
   "outputs": [
    {
     "data": {
      "text/html": [
       "<div>\n",
       "<style scoped>\n",
       "    .dataframe tbody tr th:only-of-type {\n",
       "        vertical-align: middle;\n",
       "    }\n",
       "\n",
       "    .dataframe tbody tr th {\n",
       "        vertical-align: top;\n",
       "    }\n",
       "\n",
       "    .dataframe thead th {\n",
       "        text-align: right;\n",
       "    }\n",
       "</style>\n",
       "<table border=\"1\" class=\"dataframe\">\n",
       "  <thead>\n",
       "    <tr style=\"text-align: right;\">\n",
       "      <th></th>\n",
       "      <th>count</th>\n",
       "      <th>mean</th>\n",
       "      <th>std</th>\n",
       "      <th>min</th>\n",
       "      <th>25%</th>\n",
       "      <th>50%</th>\n",
       "      <th>75%</th>\n",
       "      <th>max</th>\n",
       "    </tr>\n",
       "  </thead>\n",
       "  <tbody>\n",
       "    <tr>\n",
       "      <th>total_qty</th>\n",
       "      <td>216.0</td>\n",
       "      <td>39.037037</td>\n",
       "      <td>23.730238</td>\n",
       "      <td>2.000000</td>\n",
       "      <td>21.000000</td>\n",
       "      <td>36.500000</td>\n",
       "      <td>53.250000</td>\n",
       "      <td>110.0</td>\n",
       "    </tr>\n",
       "    <tr>\n",
       "      <th>avg_qty_per_order</th>\n",
       "      <td>216.0</td>\n",
       "      <td>1.100465</td>\n",
       "      <td>0.513845</td>\n",
       "      <td>1.000000</td>\n",
       "      <td>1.000000</td>\n",
       "      <td>1.000000</td>\n",
       "      <td>1.021277</td>\n",
       "      <td>8.0</td>\n",
       "    </tr>\n",
       "    <tr>\n",
       "      <th>total_sales</th>\n",
       "      <td>216.0</td>\n",
       "      <td>34785.319444</td>\n",
       "      <td>19790.234108</td>\n",
       "      <td>568.000000</td>\n",
       "      <td>23529.750000</td>\n",
       "      <td>35193.500000</td>\n",
       "      <td>46637.250000</td>\n",
       "      <td>87371.0</td>\n",
       "    </tr>\n",
       "    <tr>\n",
       "      <th>avg_sales_per_order</th>\n",
       "      <td>216.0</td>\n",
       "      <td>951.905767</td>\n",
       "      <td>295.516943</td>\n",
       "      <td>387.384615</td>\n",
       "      <td>686.742647</td>\n",
       "      <td>923.111615</td>\n",
       "      <td>1156.174182</td>\n",
       "      <td>1985.0</td>\n",
       "    </tr>\n",
       "    <tr>\n",
       "      <th>promo_used_ratio</th>\n",
       "      <td>216.0</td>\n",
       "      <td>0.659800</td>\n",
       "      <td>0.193887</td>\n",
       "      <td>0.000000</td>\n",
       "      <td>0.528638</td>\n",
       "      <td>0.666667</td>\n",
       "      <td>0.792026</td>\n",
       "      <td>1.0</td>\n",
       "    </tr>\n",
       "    <tr>\n",
       "      <th>total_transactions</th>\n",
       "      <td>216.0</td>\n",
       "      <td>38.620370</td>\n",
       "      <td>23.994270</td>\n",
       "      <td>1.000000</td>\n",
       "      <td>21.000000</td>\n",
       "      <td>36.500000</td>\n",
       "      <td>53.000000</td>\n",
       "      <td>110.0</td>\n",
       "    </tr>\n",
       "    <tr>\n",
       "      <th>recency_days</th>\n",
       "      <td>216.0</td>\n",
       "      <td>82.050926</td>\n",
       "      <td>14.901918</td>\n",
       "      <td>5.000000</td>\n",
       "      <td>83.000000</td>\n",
       "      <td>87.000000</td>\n",
       "      <td>89.000000</td>\n",
       "      <td>90.0</td>\n",
       "    </tr>\n",
       "    <tr>\n",
       "      <th>cluster</th>\n",
       "      <td>216.0</td>\n",
       "      <td>2.000000</td>\n",
       "      <td>0.000000</td>\n",
       "      <td>2.000000</td>\n",
       "      <td>2.000000</td>\n",
       "      <td>2.000000</td>\n",
       "      <td>2.000000</td>\n",
       "      <td>2.0</td>\n",
       "    </tr>\n",
       "  </tbody>\n",
       "</table>\n",
       "</div>"
      ],
      "text/plain": [
       "                     count          mean           std         min  \\\n",
       "total_qty            216.0     39.037037     23.730238    2.000000   \n",
       "avg_qty_per_order    216.0      1.100465      0.513845    1.000000   \n",
       "total_sales          216.0  34785.319444  19790.234108  568.000000   \n",
       "avg_sales_per_order  216.0    951.905767    295.516943  387.384615   \n",
       "promo_used_ratio     216.0      0.659800      0.193887    0.000000   \n",
       "total_transactions   216.0     38.620370     23.994270    1.000000   \n",
       "recency_days         216.0     82.050926     14.901918    5.000000   \n",
       "cluster              216.0      2.000000      0.000000    2.000000   \n",
       "\n",
       "                              25%           50%           75%      max  \n",
       "total_qty               21.000000     36.500000     53.250000    110.0  \n",
       "avg_qty_per_order        1.000000      1.000000      1.021277      8.0  \n",
       "total_sales          23529.750000  35193.500000  46637.250000  87371.0  \n",
       "avg_sales_per_order    686.742647    923.111615   1156.174182   1985.0  \n",
       "promo_used_ratio         0.528638      0.666667      0.792026      1.0  \n",
       "total_transactions      21.000000     36.500000     53.000000    110.0  \n",
       "recency_days            83.000000     87.000000     89.000000     90.0  \n",
       "cluster                  2.000000      2.000000      2.000000      2.0  "
      ]
     },
     "execution_count": 33,
     "metadata": {},
     "output_type": "execute_result"
    }
   ],
   "source": [
    "cluster2.describe().T"
   ]
  },
  {
   "cell_type": "code",
   "execution_count": 34,
   "id": "73079326",
   "metadata": {},
   "outputs": [
    {
     "data": {
      "text/html": [
       "<div>\n",
       "<style scoped>\n",
       "    .dataframe tbody tr th:only-of-type {\n",
       "        vertical-align: middle;\n",
       "    }\n",
       "\n",
       "    .dataframe tbody tr th {\n",
       "        vertical-align: top;\n",
       "    }\n",
       "\n",
       "    .dataframe thead th {\n",
       "        text-align: right;\n",
       "    }\n",
       "</style>\n",
       "<table border=\"1\" class=\"dataframe\">\n",
       "  <thead>\n",
       "    <tr style=\"text-align: right;\">\n",
       "      <th></th>\n",
       "      <th>amazon_standard_id</th>\n",
       "      <th>total_qty</th>\n",
       "      <th>avg_qty_per_order</th>\n",
       "      <th>total_sales</th>\n",
       "      <th>avg_sales_per_order</th>\n",
       "      <th>promo_used_ratio</th>\n",
       "      <th>freq_category</th>\n",
       "      <th>freq_size</th>\n",
       "      <th>freq_ship_state</th>\n",
       "      <th>last_order_date</th>\n",
       "      <th>first_order_date</th>\n",
       "      <th>total_transactions</th>\n",
       "      <th>recency_days</th>\n",
       "      <th>cluster</th>\n",
       "    </tr>\n",
       "  </thead>\n",
       "  <tbody>\n",
       "    <tr>\n",
       "      <th>0</th>\n",
       "      <td>B01LYC0N7Q</td>\n",
       "      <td>3</td>\n",
       "      <td>1.0</td>\n",
       "      <td>1230.0</td>\n",
       "      <td>410.000000</td>\n",
       "      <td>0.333333</td>\n",
       "      <td>kurta</td>\n",
       "      <td>XL</td>\n",
       "      <td>Delhi</td>\n",
       "      <td>2022-04-02</td>\n",
       "      <td>2022-06-25</td>\n",
       "      <td>3</td>\n",
       "      <td>88</td>\n",
       "      <td>3</td>\n",
       "    </tr>\n",
       "    <tr>\n",
       "      <th>1</th>\n",
       "      <td>B01LYC0NV1</td>\n",
       "      <td>10</td>\n",
       "      <td>1.0</td>\n",
       "      <td>2986.0</td>\n",
       "      <td>298.600000</td>\n",
       "      <td>0.700000</td>\n",
       "      <td>kurta</td>\n",
       "      <td>XL</td>\n",
       "      <td>Tamil Nadu</td>\n",
       "      <td>2022-04-06</td>\n",
       "      <td>2022-06-15</td>\n",
       "      <td>10</td>\n",
       "      <td>84</td>\n",
       "      <td>3</td>\n",
       "    </tr>\n",
       "    <tr>\n",
       "      <th>2</th>\n",
       "      <td>B01LZMXYSV</td>\n",
       "      <td>5</td>\n",
       "      <td>1.0</td>\n",
       "      <td>1499.0</td>\n",
       "      <td>299.800000</td>\n",
       "      <td>0.800000</td>\n",
       "      <td>kurta</td>\n",
       "      <td>S</td>\n",
       "      <td>Karnataka</td>\n",
       "      <td>2022-04-08</td>\n",
       "      <td>2022-06-24</td>\n",
       "      <td>5</td>\n",
       "      <td>82</td>\n",
       "      <td>3</td>\n",
       "    </tr>\n",
       "    <tr>\n",
       "      <th>3</th>\n",
       "      <td>B01LZYQ93J</td>\n",
       "      <td>4</td>\n",
       "      <td>1.0</td>\n",
       "      <td>1204.0</td>\n",
       "      <td>301.000000</td>\n",
       "      <td>0.750000</td>\n",
       "      <td>kurta</td>\n",
       "      <td>M</td>\n",
       "      <td>Tamil Nadu</td>\n",
       "      <td>2022-06-04</td>\n",
       "      <td>2022-06-23</td>\n",
       "      <td>4</td>\n",
       "      <td>25</td>\n",
       "      <td>3</td>\n",
       "    </tr>\n",
       "    <tr>\n",
       "      <th>4</th>\n",
       "      <td>B01M0LXTZE</td>\n",
       "      <td>7</td>\n",
       "      <td>1.0</td>\n",
       "      <td>2644.0</td>\n",
       "      <td>377.714286</td>\n",
       "      <td>0.857143</td>\n",
       "      <td>kurta</td>\n",
       "      <td>M</td>\n",
       "      <td>Karnataka</td>\n",
       "      <td>2022-04-14</td>\n",
       "      <td>2022-05-09</td>\n",
       "      <td>7</td>\n",
       "      <td>76</td>\n",
       "      <td>3</td>\n",
       "    </tr>\n",
       "    <tr>\n",
       "      <th>...</th>\n",
       "      <td>...</td>\n",
       "      <td>...</td>\n",
       "      <td>...</td>\n",
       "      <td>...</td>\n",
       "      <td>...</td>\n",
       "      <td>...</td>\n",
       "      <td>...</td>\n",
       "      <td>...</td>\n",
       "      <td>...</td>\n",
       "      <td>...</td>\n",
       "      <td>...</td>\n",
       "      <td>...</td>\n",
       "      <td>...</td>\n",
       "      <td>...</td>\n",
       "    </tr>\n",
       "    <tr>\n",
       "      <th>6198</th>\n",
       "      <td>B0B3X1P6S1</td>\n",
       "      <td>1</td>\n",
       "      <td>1.0</td>\n",
       "      <td>1281.0</td>\n",
       "      <td>1281.000000</td>\n",
       "      <td>1.000000</td>\n",
       "      <td>Set</td>\n",
       "      <td>3XL</td>\n",
       "      <td>Tamil Nadu</td>\n",
       "      <td>2022-06-26</td>\n",
       "      <td>2022-06-26</td>\n",
       "      <td>1</td>\n",
       "      <td>3</td>\n",
       "      <td>3</td>\n",
       "    </tr>\n",
       "    <tr>\n",
       "      <th>6199</th>\n",
       "      <td>B0B3X1PX3P</td>\n",
       "      <td>2</td>\n",
       "      <td>1.0</td>\n",
       "      <td>2476.0</td>\n",
       "      <td>1238.000000</td>\n",
       "      <td>1.000000</td>\n",
       "      <td>Set</td>\n",
       "      <td>M</td>\n",
       "      <td>Bihar</td>\n",
       "      <td>2022-06-24</td>\n",
       "      <td>2022-06-27</td>\n",
       "      <td>2</td>\n",
       "      <td>5</td>\n",
       "      <td>3</td>\n",
       "    </tr>\n",
       "    <tr>\n",
       "      <th>6200</th>\n",
       "      <td>B0B3X2392D</td>\n",
       "      <td>1</td>\n",
       "      <td>1.0</td>\n",
       "      <td>1238.0</td>\n",
       "      <td>1238.000000</td>\n",
       "      <td>1.000000</td>\n",
       "      <td>Set</td>\n",
       "      <td>XXL</td>\n",
       "      <td>Assam</td>\n",
       "      <td>2022-06-24</td>\n",
       "      <td>2022-06-24</td>\n",
       "      <td>1</td>\n",
       "      <td>5</td>\n",
       "      <td>3</td>\n",
       "    </tr>\n",
       "    <tr>\n",
       "      <th>6201</th>\n",
       "      <td>B0B3X2WPTW</td>\n",
       "      <td>2</td>\n",
       "      <td>1.0</td>\n",
       "      <td>2485.0</td>\n",
       "      <td>1242.500000</td>\n",
       "      <td>1.000000</td>\n",
       "      <td>Set</td>\n",
       "      <td>XXL</td>\n",
       "      <td>Jharkhand</td>\n",
       "      <td>2022-06-23</td>\n",
       "      <td>2022-06-25</td>\n",
       "      <td>2</td>\n",
       "      <td>6</td>\n",
       "      <td>3</td>\n",
       "    </tr>\n",
       "    <tr>\n",
       "      <th>6202</th>\n",
       "      <td>B0B3X45961</td>\n",
       "      <td>1</td>\n",
       "      <td>1.0</td>\n",
       "      <td>801.0</td>\n",
       "      <td>801.000000</td>\n",
       "      <td>1.000000</td>\n",
       "      <td>kurta</td>\n",
       "      <td>M</td>\n",
       "      <td>Karnataka</td>\n",
       "      <td>2022-06-23</td>\n",
       "      <td>2022-06-23</td>\n",
       "      <td>1</td>\n",
       "      <td>6</td>\n",
       "      <td>3</td>\n",
       "    </tr>\n",
       "  </tbody>\n",
       "</table>\n",
       "<p>6203 rows × 14 columns</p>\n",
       "</div>"
      ],
      "text/plain": [
       "     amazon_standard_id  total_qty  avg_qty_per_order  total_sales  \\\n",
       "0            B01LYC0N7Q          3                1.0       1230.0   \n",
       "1            B01LYC0NV1         10                1.0       2986.0   \n",
       "2            B01LZMXYSV          5                1.0       1499.0   \n",
       "3            B01LZYQ93J          4                1.0       1204.0   \n",
       "4            B01M0LXTZE          7                1.0       2644.0   \n",
       "...                 ...        ...                ...          ...   \n",
       "6198         B0B3X1P6S1          1                1.0       1281.0   \n",
       "6199         B0B3X1PX3P          2                1.0       2476.0   \n",
       "6200         B0B3X2392D          1                1.0       1238.0   \n",
       "6201         B0B3X2WPTW          2                1.0       2485.0   \n",
       "6202         B0B3X45961          1                1.0        801.0   \n",
       "\n",
       "      avg_sales_per_order  promo_used_ratio freq_category freq_size  \\\n",
       "0              410.000000          0.333333         kurta        XL   \n",
       "1              298.600000          0.700000         kurta        XL   \n",
       "2              299.800000          0.800000         kurta         S   \n",
       "3              301.000000          0.750000         kurta         M   \n",
       "4              377.714286          0.857143         kurta         M   \n",
       "...                   ...               ...           ...       ...   \n",
       "6198          1281.000000          1.000000           Set       3XL   \n",
       "6199          1238.000000          1.000000           Set         M   \n",
       "6200          1238.000000          1.000000           Set       XXL   \n",
       "6201          1242.500000          1.000000           Set       XXL   \n",
       "6202           801.000000          1.000000         kurta         M   \n",
       "\n",
       "     freq_ship_state last_order_date first_order_date  total_transactions  \\\n",
       "0              Delhi      2022-04-02       2022-06-25                   3   \n",
       "1         Tamil Nadu      2022-04-06       2022-06-15                  10   \n",
       "2          Karnataka      2022-04-08       2022-06-24                   5   \n",
       "3         Tamil Nadu      2022-06-04       2022-06-23                   4   \n",
       "4          Karnataka      2022-04-14       2022-05-09                   7   \n",
       "...              ...             ...              ...                 ...   \n",
       "6198      Tamil Nadu      2022-06-26       2022-06-26                   1   \n",
       "6199           Bihar      2022-06-24       2022-06-27                   2   \n",
       "6200           Assam      2022-06-24       2022-06-24                   1   \n",
       "6201       Jharkhand      2022-06-23       2022-06-25                   2   \n",
       "6202       Karnataka      2022-06-23       2022-06-23                   1   \n",
       "\n",
       "      recency_days  cluster  \n",
       "0               88        3  \n",
       "1               84        3  \n",
       "2               82        3  \n",
       "3               25        3  \n",
       "4               76        3  \n",
       "...            ...      ...  \n",
       "6198             3        3  \n",
       "6199             5        3  \n",
       "6200             5        3  \n",
       "6201             6        3  \n",
       "6202             6        3  \n",
       "\n",
       "[6203 rows x 14 columns]"
      ]
     },
     "execution_count": 34,
     "metadata": {},
     "output_type": "execute_result"
    }
   ],
   "source": [
    "cluster3 = agg_df[agg_df['cluster']==3].reset_index(drop=True)\n",
    "cluster3"
   ]
  },
  {
   "cell_type": "code",
   "execution_count": 35,
   "id": "1ac4af89",
   "metadata": {},
   "outputs": [
    {
     "data": {
      "text/html": [
       "<div>\n",
       "<style scoped>\n",
       "    .dataframe tbody tr th:only-of-type {\n",
       "        vertical-align: middle;\n",
       "    }\n",
       "\n",
       "    .dataframe tbody tr th {\n",
       "        vertical-align: top;\n",
       "    }\n",
       "\n",
       "    .dataframe thead th {\n",
       "        text-align: right;\n",
       "    }\n",
       "</style>\n",
       "<table border=\"1\" class=\"dataframe\">\n",
       "  <thead>\n",
       "    <tr style=\"text-align: right;\">\n",
       "      <th></th>\n",
       "      <th>count</th>\n",
       "      <th>mean</th>\n",
       "      <th>std</th>\n",
       "      <th>min</th>\n",
       "      <th>25%</th>\n",
       "      <th>50%</th>\n",
       "      <th>75%</th>\n",
       "      <th>max</th>\n",
       "    </tr>\n",
       "  </thead>\n",
       "  <tbody>\n",
       "    <tr>\n",
       "      <th>total_qty</th>\n",
       "      <td>6203.0</td>\n",
       "      <td>8.410769</td>\n",
       "      <td>11.117076</td>\n",
       "      <td>1.0</td>\n",
       "      <td>2.000000</td>\n",
       "      <td>5.000000</td>\n",
       "      <td>10.000000</td>\n",
       "      <td>113.00</td>\n",
       "    </tr>\n",
       "    <tr>\n",
       "      <th>avg_qty_per_order</th>\n",
       "      <td>6203.0</td>\n",
       "      <td>1.002661</td>\n",
       "      <td>0.054796</td>\n",
       "      <td>1.0</td>\n",
       "      <td>1.000000</td>\n",
       "      <td>1.000000</td>\n",
       "      <td>1.000000</td>\n",
       "      <td>4.00</td>\n",
       "    </tr>\n",
       "    <tr>\n",
       "      <th>total_sales</th>\n",
       "      <td>6203.0</td>\n",
       "      <td>5168.231259</td>\n",
       "      <td>6590.936729</td>\n",
       "      <td>199.0</td>\n",
       "      <td>1072.500000</td>\n",
       "      <td>2580.000000</td>\n",
       "      <td>6311.500000</td>\n",
       "      <td>51383.00</td>\n",
       "    </tr>\n",
       "    <tr>\n",
       "      <th>avg_sales_per_order</th>\n",
       "      <td>6203.0</td>\n",
       "      <td>614.569991</td>\n",
       "      <td>257.656165</td>\n",
       "      <td>199.0</td>\n",
       "      <td>424.607143</td>\n",
       "      <td>563.000000</td>\n",
       "      <td>748.571429</td>\n",
       "      <td>1922.75</td>\n",
       "    </tr>\n",
       "    <tr>\n",
       "      <th>promo_used_ratio</th>\n",
       "      <td>6203.0</td>\n",
       "      <td>0.639746</td>\n",
       "      <td>0.305488</td>\n",
       "      <td>0.0</td>\n",
       "      <td>0.462477</td>\n",
       "      <td>0.666667</td>\n",
       "      <td>1.000000</td>\n",
       "      <td>1.00</td>\n",
       "    </tr>\n",
       "    <tr>\n",
       "      <th>total_transactions</th>\n",
       "      <td>6203.0</td>\n",
       "      <td>8.389167</td>\n",
       "      <td>11.071595</td>\n",
       "      <td>1.0</td>\n",
       "      <td>2.000000</td>\n",
       "      <td>4.000000</td>\n",
       "      <td>10.000000</td>\n",
       "      <td>113.00</td>\n",
       "    </tr>\n",
       "    <tr>\n",
       "      <th>recency_days</th>\n",
       "      <td>6203.0</td>\n",
       "      <td>69.237627</td>\n",
       "      <td>22.808570</td>\n",
       "      <td>0.0</td>\n",
       "      <td>59.500000</td>\n",
       "      <td>79.000000</td>\n",
       "      <td>86.000000</td>\n",
       "      <td>90.00</td>\n",
       "    </tr>\n",
       "    <tr>\n",
       "      <th>cluster</th>\n",
       "      <td>6203.0</td>\n",
       "      <td>3.000000</td>\n",
       "      <td>0.000000</td>\n",
       "      <td>3.0</td>\n",
       "      <td>3.000000</td>\n",
       "      <td>3.000000</td>\n",
       "      <td>3.000000</td>\n",
       "      <td>3.00</td>\n",
       "    </tr>\n",
       "  </tbody>\n",
       "</table>\n",
       "</div>"
      ],
      "text/plain": [
       "                      count         mean          std    min          25%  \\\n",
       "total_qty            6203.0     8.410769    11.117076    1.0     2.000000   \n",
       "avg_qty_per_order    6203.0     1.002661     0.054796    1.0     1.000000   \n",
       "total_sales          6203.0  5168.231259  6590.936729  199.0  1072.500000   \n",
       "avg_sales_per_order  6203.0   614.569991   257.656165  199.0   424.607143   \n",
       "promo_used_ratio     6203.0     0.639746     0.305488    0.0     0.462477   \n",
       "total_transactions   6203.0     8.389167    11.071595    1.0     2.000000   \n",
       "recency_days         6203.0    69.237627    22.808570    0.0    59.500000   \n",
       "cluster              6203.0     3.000000     0.000000    3.0     3.000000   \n",
       "\n",
       "                             50%          75%       max  \n",
       "total_qty               5.000000    10.000000    113.00  \n",
       "avg_qty_per_order       1.000000     1.000000      4.00  \n",
       "total_sales          2580.000000  6311.500000  51383.00  \n",
       "avg_sales_per_order   563.000000   748.571429   1922.75  \n",
       "promo_used_ratio        0.666667     1.000000      1.00  \n",
       "total_transactions      4.000000    10.000000    113.00  \n",
       "recency_days           79.000000    86.000000     90.00  \n",
       "cluster                 3.000000     3.000000      3.00  "
      ]
     },
     "execution_count": 35,
     "metadata": {},
     "output_type": "execute_result"
    }
   ],
   "source": [
    "cluster3.describe().T"
   ]
  },
  {
   "cell_type": "markdown",
   "id": "22266dc0",
   "metadata": {},
   "source": [
    "# EDA After Clustering"
   ]
  },
  {
   "cell_type": "code",
   "execution_count": 36,
   "id": "2e6fe9e5",
   "metadata": {},
   "outputs": [
    {
     "data": {
      "image/png": "[encoded data removed]",
      "text/plain": [
       "<Figure size 600x400 with 1 Axes>"
      ]
     },
     "metadata": {},
     "output_type": "display_data"
    }
   ],
   "source": [
    "cluster_counts = agg_df['cluster'].value_counts().sort_index()\n",
    "\n",
    "plt.figure(figsize=(6,4))\n",
    "plt.bar(cluster_counts.index, cluster_counts.values, color='skyblue')\n",
    "plt.xlabel('Cluster')\n",
    "plt.ylabel('Jumlah Pelanggan')\n",
    "plt.title('Jumlah Pelanggan per Cluster')\n",
    "plt.grid(axis='y')\n",
    "plt.tight_layout()\n",
    "plt.show()\n"
   ]
  },
  {
   "cell_type": "markdown",
   "id": "63f5d0e9",
   "metadata": {},
   "source": [
    "Cluster 3 contains the majority of the customers, over 6,000.\n",
    "\n",
    "Clusters 1 and 2 contain a much smaller number of customers, under 300 each."
   ]
  },
  {
   "cell_type": "code",
   "execution_count": 37,
   "id": "a36318bd",
   "metadata": {},
   "outputs": [
    {
     "data": {
      "image/png": "[encoded data removed]",
      "text/plain": [
       "<Figure size 600x400 with 1 Axes>"
      ]
     },
     "metadata": {},
     "output_type": "display_data"
    }
   ],
   "source": [
    "avg_sales = agg_df.groupby('cluster')['total_sales'].mean()\n",
    "\n",
    "plt.figure(figsize=(6,4))\n",
    "plt.bar(avg_sales.index, avg_sales.values, color='orange')\n",
    "plt.xlabel('Cluster')\n",
    "plt.ylabel('Rata-rata Total Sales')\n",
    "plt.title('Rata-rata Total Sales per Cluster')\n",
    "plt.grid(axis='y')\n",
    "plt.tight_layout()\n",
    "plt.show()"
   ]
  },
  {
   "cell_type": "markdown",
   "id": "66fbfa46",
   "metadata": {},
   "source": [
    "Cluster 1: Small in size (few customers), but very profitable, possibly VIP or loyal customers.\n",
    "\n",
    "Cluster 2: Medium segment, likely contributing steadily but not significantly.\n",
    "\n",
    "Cluster 3: Large volume, but low spenders, could be casual or price-sensitive buyers."
   ]
  },
  {
   "cell_type": "code",
   "execution_count": 38,
   "id": "bb6e9d4d",
   "metadata": {},
   "outputs": [
    {
     "data": {
      "image/png": "[encoded data removed]",
      "text/plain": [
       "<Figure size 600x400 with 1 Axes>"
      ]
     },
     "metadata": {},
     "output_type": "display_data"
    }
   ],
   "source": [
    "avg_promo = agg_df.groupby('cluster')['promo_used_ratio'].mean()\n",
    "\n",
    "plt.figure(figsize=(6,4))\n",
    "plt.bar(avg_promo.index, avg_promo.values, color='green')\n",
    "plt.xlabel('Cluster')\n",
    "plt.ylabel('Rata-rata Promo Used Ratio')\n",
    "plt.title('Promo Used Ratio per Cluster')\n",
    "plt.grid(axis='y')\n",
    "plt.tight_layout()\n",
    "plt.show()"
   ]
  },
  {
   "cell_type": "markdown",
   "id": "5ed6930b",
   "metadata": {},
   "source": [
    "Cluster 1: Uses promotions the least, aligns with earlier findings where this cluster had high total sales, suggesting they may not rely on discounts (possibly loyal or premium customers).\n",
    "\n",
    "Cluster 2: Highly responsive to promotions, could be price-sensitive or promo-driven buyers.\n",
    "\n",
    "Cluster 3: Also promotion-heavy, even though we previously saw they have the lowest total sales (likely low spend per transaction).\n",
    "\n"
   ]
  }
 ],
 "metadata": {
  "kernelspec": {
   "display_name": "base",
   "language": "python",
   "name": "python3"
  },
  "language_info": {
   "codemirror_mode": {
    "name": "ipython",
    "version": 3
   },
   "file_extension": ".py",
   "mimetype": "text/x-python",
   "name": "python",
   "nbconvert_exporter": "python",
   "pygments_lexer": "ipython3",
   "version": "3.9.21"
  }
 },
 "nbformat": 4,
 "nbformat_minor": 5
}
